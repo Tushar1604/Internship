{
 "cells": [
  {
   "cell_type": "markdown",
   "id": "47418be6",
   "metadata": {},
   "source": [
    "# 11. Write a python program to find the factorial of a number\n",
    "\n"
   ]
  },
  {
   "cell_type": "code",
   "execution_count": 3,
   "id": "0b7b4c9c",
   "metadata": {},
   "outputs": [
    {
     "name": "stdout",
     "output_type": "stream",
     "text": [
      "The factorial of 6 is 720\n"
     ]
    }
   ],
   "source": [
    "var = 6\n",
    "factorial = 1\n",
    "if var < 0:\n",
    "   print(\"Sorry, factorial does not exist for negative numbers\")\n",
    "elif var == 0:\n",
    "   print(\"The factorial of 0 is 1\")\n",
    "else:\n",
    "   for i in range(1,var + 1):\n",
    "       factorial = factorial*i\n",
    "   print(\"The factorial of\",var,\"is\",factorial)"
   ]
  },
  {
   "cell_type": "markdown",
   "id": "9283c27c",
   "metadata": {},
   "source": [
    "# 12. Write a python program to find whether a number is prime or composite"
   ]
  },
  {
   "cell_type": "code",
   "execution_count": 4,
   "id": "fdef9197",
   "metadata": {},
   "outputs": [],
   "source": [
    "def prime(num):\n",
    "    for n in range(2,num):\n",
    "        if num%n==0:\n",
    "            print('%i is Composite'%num)\n",
    "            break\n",
    "    else:\n",
    "        print('%i is a Prime number'%num)"
   ]
  },
  {
   "cell_type": "code",
   "execution_count": 5,
   "id": "8d62f7db",
   "metadata": {},
   "outputs": [
    {
     "name": "stdout",
     "output_type": "stream",
     "text": [
      "7 is a Prime number\n"
     ]
    }
   ],
   "source": [
    "prime (7)"
   ]
  },
  {
   "cell_type": "markdown",
   "id": "b62c4872",
   "metadata": {},
   "source": [
    "# 13. Write a python program to check whether a given string is palindrome or not"
   ]
  },
  {
   "cell_type": "code",
   "execution_count": 6,
   "id": "91a43c70",
   "metadata": {},
   "outputs": [
    {
     "name": "stdout",
     "output_type": "stream",
     "text": [
      "The string is a palindrome.\n"
     ]
    }
   ],
   "source": [
    "var = 'RADAR'\n",
    "\n",
    "var = var.casefold()\n",
    "\n",
    "rev_str = reversed(var)\n",
    "\n",
    "if list(var) == list(rev_str):\n",
    "   print(\"The string is a palindrome.\")\n",
    "else:\n",
    "   print(\"The string is not a palindrome.\")"
   ]
  },
  {
   "cell_type": "markdown",
   "id": "944719fc",
   "metadata": {},
   "source": [
    "# 14. Write a Python program to get the third side of right-angled triangle from two given sides."
   ]
  },
  {
   "cell_type": "code",
   "execution_count": 13,
   "id": "79d9392a",
   "metadata": {},
   "outputs": [
    {
     "name": "stdout",
     "output_type": "stream",
     "text": [
      "Enter base: 3\n",
      "Enter height: 4\n",
      "Hypotenuse = 5.0\n"
     ]
    }
   ],
   "source": [
    "import math\n",
    "b = float(input(\"Enter base: \"))\n",
    "h = float(input(\"Enter height: \"))\n",
    "\n",
    "Hypotenuse = math.sqrt((b**2 + h**2))\n",
    "\n",
    "print(\"Hypotenuse =\", Hypotenuse)\n"
   ]
  },
  {
   "cell_type": "markdown",
   "id": "d57949df",
   "metadata": {},
   "source": [
    "# 15. Write a python program to print the frequency of each of the characters present in a given string."
   ]
  },
  {
   "cell_type": "code",
   "execution_count": 14,
   "id": "758eb490",
   "metadata": {},
   "outputs": [
    {
     "name": "stdout",
     "output_type": "stream",
     "text": [
      "{'m': 1, 'i': 4, 's': 4, 'p': 2}\n"
     ]
    }
   ],
   "source": [
    "def char_frequency(var1):\n",
    "    dict = {}\n",
    "    for n in var1:\n",
    "        keys = dict.keys()\n",
    "        if n in keys:\n",
    "            dict[n] += 1\n",
    "        else:\n",
    "            dict[n] = 1\n",
    "    return dict\n",
    "print(char_frequency('mississippi'))"
   ]
  },
  {
   "cell_type": "code",
   "execution_count": 15,
   "id": "852567ec",
   "metadata": {},
   "outputs": [],
   "source": []
  },
  {
   "cell_type": "code",
   "execution_count": null,
   "id": "dd01e74b",
   "metadata": {},
   "outputs": [],
   "source": []
  },
  {
   "cell_type": "code",
   "execution_count": null,
   "id": "b9e11b87",
   "metadata": {},
   "outputs": [],
   "source": []
  }
 ],
 "metadata": {
  "kernelspec": {
   "display_name": "Python 3",
   "language": "python",
   "name": "python3"
  },
  "language_info": {
   "codemirror_mode": {
    "name": "ipython",
    "version": 3
   },
   "file_extension": ".py",
   "mimetype": "text/x-python",
   "name": "python",
   "nbconvert_exporter": "python",
   "pygments_lexer": "ipython3",
   "version": "3.8.8"
  }
 },
 "nbformat": 4,
 "nbformat_minor": 5
}

{
 "cells": [
  {
   "cell_type": "code",
   "execution_count": 152,
   "id": "10e063bd",
   "metadata": {},
   "outputs": [],
   "source": [
    "import selenium\n",
    "from selenium import webdriver\n",
    "import pandas as pd\n",
    "\n",
    "import warnings\n",
    "warnings.filterwarnings('ignore')"
   ]
  },
  {
   "cell_type": "code",
   "execution_count": 153,
   "id": "d7af0522",
   "metadata": {},
   "outputs": [],
   "source": [
    "driver = webdriver.Chrome(r\"C:/Users/20130367/Desktop/DT/chromedriver.exe\")"
   ]
  },
  {
   "cell_type": "markdown",
   "id": "d8dad64b",
   "metadata": {},
   "source": [
    "# Q1: Write a python program to scrape data for “Data Analyst” Job position in “Bangalore” location. You have to scrape the job-title, job-location, company_name, experience_required. You have to scrape first 10 jobs data."
   ]
  },
  {
   "cell_type": "code",
   "execution_count": 36,
   "id": "dc35f0c7",
   "metadata": {},
   "outputs": [],
   "source": [
    "driver.get('https://www.naukri.com/')"
   ]
  },
  {
   "cell_type": "code",
   "execution_count": 37,
   "id": "b0dc79d7",
   "metadata": {},
   "outputs": [],
   "source": [
    "search_job = driver.find_element_by_id('qsb-keyword-sugg')\n",
    "search_job.send_keys('Data Analyst')\n",
    "\n",
    "search_loc = driver.find_element_by_id('qsb-location-sugg')\n",
    "search_loc.send_keys('Bangalore')"
   ]
  },
  {
   "cell_type": "code",
   "execution_count": 38,
   "id": "054f41ca",
   "metadata": {},
   "outputs": [],
   "source": [
    "search_btn = driver.find_element_by_xpath(\"//div[@class='search-btn']/button\")\n",
    "search_btn.click()"
   ]
  },
  {
   "cell_type": "code",
   "execution_count": 39,
   "id": "431fee6b",
   "metadata": {},
   "outputs": [],
   "source": [
    "job_title = []\n",
    "job_loc = []\n",
    "comp_name = []\n",
    "exp = []"
   ]
  },
  {
   "cell_type": "code",
   "execution_count": 40,
   "id": "abb65e49",
   "metadata": {},
   "outputs": [
    {
     "data": {
      "text/plain": [
       "[<selenium.webdriver.remote.webelement.WebElement (session=\"2a9ca6ea0781482b98fd2dbbb295b5a7\", element=\"8cfd93ec-759f-4463-89ab-6747c0cd8518\")>,\n",
       " <selenium.webdriver.remote.webelement.WebElement (session=\"2a9ca6ea0781482b98fd2dbbb295b5a7\", element=\"07cab24d-c0ce-47df-842d-b65a1db46c75\")>,\n",
       " <selenium.webdriver.remote.webelement.WebElement (session=\"2a9ca6ea0781482b98fd2dbbb295b5a7\", element=\"8498e449-f131-4156-abfa-57a1e9eb2916\")>,\n",
       " <selenium.webdriver.remote.webelement.WebElement (session=\"2a9ca6ea0781482b98fd2dbbb295b5a7\", element=\"9f838ab4-3221-49ec-babf-4cbbd245a67f\")>]"
      ]
     },
     "execution_count": 40,
     "metadata": {},
     "output_type": "execute_result"
    }
   ],
   "source": [
    "title_tags = driver.find_elements_by_xpath(\"//a[@class='title fw500 ellipsis']\")\n",
    "title_tags[0:4]"
   ]
  },
  {
   "cell_type": "code",
   "execution_count": 41,
   "id": "fbfb4669",
   "metadata": {},
   "outputs": [
    {
     "data": {
      "text/plain": [
       "['Hiring -Data Analyst, Business Analyst, MIS Analyst -3rd Party Payroll',\n",
       " 'Senior Data Analyst III',\n",
       " 'Business Analyst/ Data Analyst- Capital Market & SQL (Mandatory)',\n",
       " 'Customer Data Management Analyst',\n",
       " 'Data Analyst',\n",
       " 'Assistant/deputy Manager - Geo-spatial Data Analyst',\n",
       " 'Senior Data Analyst',\n",
       " 'Senior Data Analyst',\n",
       " 'Senior Data Analyst',\n",
       " 'Openings For SQL Data Analyst',\n",
       " 'Data Analyst (On Contract)',\n",
       " 'Data Analyst',\n",
       " 'Data Analyst',\n",
       " 'Data Analyst / Engineer',\n",
       " 'Senior Data Analyst',\n",
       " 'Senior Data Analyst for HANA Platform',\n",
       " 'Lead - Data Analyst - Leading US MNC',\n",
       " 'Jr. Data Analyst/ Jr. Data Scientist',\n",
       " 'Data Analyst',\n",
       " 'Supervisor Role, Data Analyst, six sigma, Analytical skills, Database']"
      ]
     },
     "execution_count": 41,
     "metadata": {},
     "output_type": "execute_result"
    }
   ],
   "source": [
    "for i in title_tags:\n",
    "    title=i.text\n",
    "    job_title.append(title)\n",
    "    \n",
    "job_title"
   ]
  },
  {
   "cell_type": "code",
   "execution_count": 42,
   "id": "b02c5e9c",
   "metadata": {},
   "outputs": [
    {
     "data": {
      "text/plain": [
       "[<selenium.webdriver.remote.webelement.WebElement (session=\"2a9ca6ea0781482b98fd2dbbb295b5a7\", element=\"cddf0be3-b892-4e4f-a16d-d6d0d2f3df4d\")>,\n",
       " <selenium.webdriver.remote.webelement.WebElement (session=\"2a9ca6ea0781482b98fd2dbbb295b5a7\", element=\"dd9f85e2-2662-4fd7-b020-88961065b58c\")>,\n",
       " <selenium.webdriver.remote.webelement.WebElement (session=\"2a9ca6ea0781482b98fd2dbbb295b5a7\", element=\"e6ef3340-3918-4d9c-94bc-8a20a03a05ef\")>,\n",
       " <selenium.webdriver.remote.webelement.WebElement (session=\"2a9ca6ea0781482b98fd2dbbb295b5a7\", element=\"06cb4740-6928-4619-ab68-7db6e651a09d\")>]"
      ]
     },
     "execution_count": 42,
     "metadata": {},
     "output_type": "execute_result"
    }
   ],
   "source": [
    "loc_tags = driver.find_elements_by_xpath(\"//li[@class='fleft grey-text br2 placeHolderLi location']/span[1]\")\n",
    "loc_tags[0:4]"
   ]
  },
  {
   "cell_type": "code",
   "execution_count": 43,
   "id": "21a6d387",
   "metadata": {},
   "outputs": [
    {
     "data": {
      "text/plain": [
       "['Bangalore/Bengaluru',\n",
       " 'Bengaluru/Bangalore',\n",
       " 'Pune, Bangalore/Bengaluru',\n",
       " 'Bangalore/Bengaluru',\n",
       " 'Bangalore/Bengaluru',\n",
       " 'Gurgaon/Gurugram, bangalore',\n",
       " 'Bangalore/Bengaluru',\n",
       " 'Kolkata, Hyderabad/Secunderabad, Pune, Ahmedabad, Chennai, Bangalore/Bengaluru, Delhi / NCR, Mumbai (All Areas)',\n",
       " 'Bengaluru/Bangalore',\n",
       " 'Hyderabad/Secunderabad, Bangalore/Bengaluru',\n",
       " 'Bangalore/Bengaluru',\n",
       " 'Bangalore/Bengaluru',\n",
       " 'Bangalore/Bengaluru',\n",
       " 'Chennai, Bangalore/Bengaluru',\n",
       " 'Bangalore/Bengaluru',\n",
       " 'Bangalore/Bengaluru',\n",
       " 'Mumbai, Gurgaon/Gurugram, Bangalore/Bengaluru',\n",
       " 'Hyderabad/Secunderabad, Bangalore/Bengaluru, Mumbai (All Areas)',\n",
       " 'Bangalore/Bengaluru',\n",
       " 'Bangalore/Bengaluru']"
      ]
     },
     "execution_count": 43,
     "metadata": {},
     "output_type": "execute_result"
    }
   ],
   "source": [
    "for i in loc_tags:\n",
    "    loc = i.text\n",
    "    job_loc.append(loc)\n",
    "    \n",
    "job_loc"
   ]
  },
  {
   "cell_type": "code",
   "execution_count": 44,
   "id": "5e08f17d",
   "metadata": {},
   "outputs": [
    {
     "data": {
      "text/plain": [
       "[<selenium.webdriver.remote.webelement.WebElement (session=\"2a9ca6ea0781482b98fd2dbbb295b5a7\", element=\"986654f3-81ce-4f9f-a2eb-ede7db5c2cac\")>,\n",
       " <selenium.webdriver.remote.webelement.WebElement (session=\"2a9ca6ea0781482b98fd2dbbb295b5a7\", element=\"770081b5-5c62-453d-bdc8-cdb0e9f55e56\")>,\n",
       " <selenium.webdriver.remote.webelement.WebElement (session=\"2a9ca6ea0781482b98fd2dbbb295b5a7\", element=\"4975be3d-1624-443e-ad71-52bc302ffe97\")>,\n",
       " <selenium.webdriver.remote.webelement.WebElement (session=\"2a9ca6ea0781482b98fd2dbbb295b5a7\", element=\"94c54419-b1e1-46c4-8340-9ec6983b3091\")>]"
      ]
     },
     "execution_count": 44,
     "metadata": {},
     "output_type": "execute_result"
    }
   ],
   "source": [
    "comp_tags = driver.find_elements_by_xpath(\"//a[@class='subTitle ellipsis fleft']\")\n",
    "comp_tags[0:4]"
   ]
  },
  {
   "cell_type": "code",
   "execution_count": 45,
   "id": "e83a4692",
   "metadata": {},
   "outputs": [
    {
     "data": {
      "text/plain": [
       "['Flipkart',\n",
       " 'Flipkart',\n",
       " 'Genpact',\n",
       " 'Aspect',\n",
       " 'GlaxoSmithKline Pharmaceuticals Limited',\n",
       " 'Maruti Suzuki India',\n",
       " 'Rapido',\n",
       " 'SYREN TECHNOLOGIES PRIVATE LIMITED',\n",
       " 'Flipkart',\n",
       " 'StackNexus Technologies India Pvt. Ltd',\n",
       " 'Rupeek Fintech Pvt Ltd',\n",
       " 'Schneider Electric',\n",
       " 'GlaxoSmithKline Pharmaceuticals Limited',\n",
       " 'Animaker India Private Limited',\n",
       " 'Flipkart',\n",
       " 'Intel',\n",
       " 'EVOLVE TECHNOLOGIES AND SERVICES PRIVATE LIMITED',\n",
       " 'Sejal Consulting Hub',\n",
       " 'NetraDyne Technology India Private Limited',\n",
       " 'Concentrix Daksh Services']"
      ]
     },
     "execution_count": 45,
     "metadata": {},
     "output_type": "execute_result"
    }
   ],
   "source": [
    "for i in comp_tags:\n",
    "    comp = i.text\n",
    "    comp_name.append(comp)\n",
    "    \n",
    "comp_name"
   ]
  },
  {
   "cell_type": "code",
   "execution_count": 46,
   "id": "d70a6442",
   "metadata": {},
   "outputs": [
    {
     "data": {
      "text/plain": [
       "[<selenium.webdriver.remote.webelement.WebElement (session=\"2a9ca6ea0781482b98fd2dbbb295b5a7\", element=\"a080f455-1d73-4512-a32f-cf1912069706\")>,\n",
       " <selenium.webdriver.remote.webelement.WebElement (session=\"2a9ca6ea0781482b98fd2dbbb295b5a7\", element=\"7d2cd084-9a4c-4c18-a626-7ec90617074c\")>,\n",
       " <selenium.webdriver.remote.webelement.WebElement (session=\"2a9ca6ea0781482b98fd2dbbb295b5a7\", element=\"207d6be2-3fcb-4d97-a1bd-a98876015f63\")>,\n",
       " <selenium.webdriver.remote.webelement.WebElement (session=\"2a9ca6ea0781482b98fd2dbbb295b5a7\", element=\"66aeb6fb-88d9-4412-86a7-27b9637f3450\")>]"
      ]
     },
     "execution_count": 46,
     "metadata": {},
     "output_type": "execute_result"
    }
   ],
   "source": [
    "exp_tags = driver.find_elements_by_xpath(\"//li[@class='fleft grey-text br2 placeHolderLi experience']/span[1]\")\n",
    "exp_tags[0:4]"
   ]
  },
  {
   "cell_type": "code",
   "execution_count": 47,
   "id": "bb34e73f",
   "metadata": {},
   "outputs": [
    {
     "data": {
      "text/plain": [
       "['1-6 Yrs',\n",
       " '2-4 Yrs',\n",
       " '7-12 Yrs',\n",
       " '0-2 Yrs',\n",
       " '3-8 Yrs',\n",
       " '3-5 Yrs',\n",
       " '1-6 Yrs',\n",
       " '5-10 Yrs',\n",
       " '4-5 Yrs',\n",
       " '3-6 Yrs',\n",
       " '0-2 Yrs',\n",
       " '2-5 Yrs',\n",
       " '3-8 Yrs',\n",
       " '4-9 Yrs',\n",
       " '3-7 Yrs',\n",
       " '5-10 Yrs',\n",
       " '6-11 Yrs',\n",
       " '0-5 Yrs',\n",
       " '2-5 Yrs',\n",
       " '3-6 Yrs']"
      ]
     },
     "execution_count": 47,
     "metadata": {},
     "output_type": "execute_result"
    }
   ],
   "source": [
    "for i in exp_tags:\n",
    "    exp.append(i.text)\n",
    "    \n",
    "exp"
   ]
  },
  {
   "cell_type": "code",
   "execution_count": 49,
   "id": "b4a765a8",
   "metadata": {},
   "outputs": [
    {
     "data": {
      "text/html": [
       "<div>\n",
       "<style scoped>\n",
       "    .dataframe tbody tr th:only-of-type {\n",
       "        vertical-align: middle;\n",
       "    }\n",
       "\n",
       "    .dataframe tbody tr th {\n",
       "        vertical-align: top;\n",
       "    }\n",
       "\n",
       "    .dataframe thead th {\n",
       "        text-align: right;\n",
       "    }\n",
       "</style>\n",
       "<table border=\"1\" class=\"dataframe\">\n",
       "  <thead>\n",
       "    <tr style=\"text-align: right;\">\n",
       "      <th></th>\n",
       "      <th>Job Title</th>\n",
       "      <th>Company Name</th>\n",
       "      <th>Location</th>\n",
       "      <th>Experience</th>\n",
       "    </tr>\n",
       "  </thead>\n",
       "  <tbody>\n",
       "    <tr>\n",
       "      <th>0</th>\n",
       "      <td>Hiring -Data Analyst, Business Analyst, MIS An...</td>\n",
       "      <td>Flipkart</td>\n",
       "      <td>Bangalore/Bengaluru</td>\n",
       "      <td>1-6 Yrs</td>\n",
       "    </tr>\n",
       "    <tr>\n",
       "      <th>1</th>\n",
       "      <td>Senior Data Analyst III</td>\n",
       "      <td>Flipkart</td>\n",
       "      <td>Bengaluru/Bangalore</td>\n",
       "      <td>2-4 Yrs</td>\n",
       "    </tr>\n",
       "    <tr>\n",
       "      <th>2</th>\n",
       "      <td>Business Analyst/ Data Analyst- Capital Market...</td>\n",
       "      <td>Genpact</td>\n",
       "      <td>Pune, Bangalore/Bengaluru</td>\n",
       "      <td>7-12 Yrs</td>\n",
       "    </tr>\n",
       "    <tr>\n",
       "      <th>3</th>\n",
       "      <td>Customer Data Management Analyst</td>\n",
       "      <td>Aspect</td>\n",
       "      <td>Bangalore/Bengaluru</td>\n",
       "      <td>0-2 Yrs</td>\n",
       "    </tr>\n",
       "    <tr>\n",
       "      <th>4</th>\n",
       "      <td>Data Analyst</td>\n",
       "      <td>GlaxoSmithKline Pharmaceuticals Limited</td>\n",
       "      <td>Bangalore/Bengaluru</td>\n",
       "      <td>3-8 Yrs</td>\n",
       "    </tr>\n",
       "    <tr>\n",
       "      <th>5</th>\n",
       "      <td>Assistant/deputy Manager - Geo-spatial Data An...</td>\n",
       "      <td>Maruti Suzuki India</td>\n",
       "      <td>Gurgaon/Gurugram, bangalore</td>\n",
       "      <td>3-5 Yrs</td>\n",
       "    </tr>\n",
       "    <tr>\n",
       "      <th>6</th>\n",
       "      <td>Senior Data Analyst</td>\n",
       "      <td>Rapido</td>\n",
       "      <td>Bangalore/Bengaluru</td>\n",
       "      <td>1-6 Yrs</td>\n",
       "    </tr>\n",
       "    <tr>\n",
       "      <th>7</th>\n",
       "      <td>Senior Data Analyst</td>\n",
       "      <td>SYREN TECHNOLOGIES PRIVATE LIMITED</td>\n",
       "      <td>Kolkata, Hyderabad/Secunderabad, Pune, Ahmedab...</td>\n",
       "      <td>5-10 Yrs</td>\n",
       "    </tr>\n",
       "    <tr>\n",
       "      <th>8</th>\n",
       "      <td>Senior Data Analyst</td>\n",
       "      <td>Flipkart</td>\n",
       "      <td>Bengaluru/Bangalore</td>\n",
       "      <td>4-5 Yrs</td>\n",
       "    </tr>\n",
       "    <tr>\n",
       "      <th>9</th>\n",
       "      <td>Openings For SQL Data Analyst</td>\n",
       "      <td>StackNexus Technologies India Pvt. Ltd</td>\n",
       "      <td>Hyderabad/Secunderabad, Bangalore/Bengaluru</td>\n",
       "      <td>3-6 Yrs</td>\n",
       "    </tr>\n",
       "  </tbody>\n",
       "</table>\n",
       "</div>"
      ],
      "text/plain": [
       "                                           Job Title  \\\n",
       "0  Hiring -Data Analyst, Business Analyst, MIS An...   \n",
       "1                            Senior Data Analyst III   \n",
       "2  Business Analyst/ Data Analyst- Capital Market...   \n",
       "3                   Customer Data Management Analyst   \n",
       "4                                       Data Analyst   \n",
       "5  Assistant/deputy Manager - Geo-spatial Data An...   \n",
       "6                                Senior Data Analyst   \n",
       "7                                Senior Data Analyst   \n",
       "8                                Senior Data Analyst   \n",
       "9                      Openings For SQL Data Analyst   \n",
       "\n",
       "                              Company Name  \\\n",
       "0                                 Flipkart   \n",
       "1                                 Flipkart   \n",
       "2                                  Genpact   \n",
       "3                                   Aspect   \n",
       "4  GlaxoSmithKline Pharmaceuticals Limited   \n",
       "5                      Maruti Suzuki India   \n",
       "6                                   Rapido   \n",
       "7       SYREN TECHNOLOGIES PRIVATE LIMITED   \n",
       "8                                 Flipkart   \n",
       "9   StackNexus Technologies India Pvt. Ltd   \n",
       "\n",
       "                                            Location Experience  \n",
       "0                                Bangalore/Bengaluru    1-6 Yrs  \n",
       "1                                Bengaluru/Bangalore    2-4 Yrs  \n",
       "2                          Pune, Bangalore/Bengaluru   7-12 Yrs  \n",
       "3                                Bangalore/Bengaluru    0-2 Yrs  \n",
       "4                                Bangalore/Bengaluru    3-8 Yrs  \n",
       "5                        Gurgaon/Gurugram, bangalore    3-5 Yrs  \n",
       "6                                Bangalore/Bengaluru    1-6 Yrs  \n",
       "7  Kolkata, Hyderabad/Secunderabad, Pune, Ahmedab...   5-10 Yrs  \n",
       "8                                Bengaluru/Bangalore    4-5 Yrs  \n",
       "9        Hyderabad/Secunderabad, Bangalore/Bengaluru    3-6 Yrs  "
      ]
     },
     "execution_count": 49,
     "metadata": {},
     "output_type": "execute_result"
    }
   ],
   "source": [
    "naukri_df = pd.DataFrame({'Job Title':job_title,'Company Name':comp_name,'Location':job_loc,'Experience':exp})\n",
    "naukri_df[0:10]"
   ]
  },
  {
   "cell_type": "code",
   "execution_count": null,
   "id": "6f284a7a",
   "metadata": {},
   "outputs": [],
   "source": []
  },
  {
   "cell_type": "markdown",
   "id": "c78c994d",
   "metadata": {},
   "source": [
    "# Q.2 - Write a python program to scrape data for “Data Scientist” Job position in “Bangalore” location. You have to scrape the job-title, job-location, company_name. You have to scrape first 10 jobs data."
   ]
  },
  {
   "cell_type": "code",
   "execution_count": 51,
   "id": "2d41094f",
   "metadata": {},
   "outputs": [],
   "source": [
    "driver.get('https://www.naukri.com/')"
   ]
  },
  {
   "cell_type": "code",
   "execution_count": 52,
   "id": "4bf03916",
   "metadata": {},
   "outputs": [],
   "source": [
    "search_job = driver.find_element_by_id('qsb-keyword-sugg')\n",
    "search_job.send_keys('Data Scientist')\n",
    "\n",
    "search_loc = driver.find_element_by_id('qsb-location-sugg')\n",
    "search_loc.send_keys('Bangalore')"
   ]
  },
  {
   "cell_type": "code",
   "execution_count": 53,
   "id": "e4ec6836",
   "metadata": {},
   "outputs": [],
   "source": [
    "search_btn = driver.find_element_by_xpath(\"//div[@class='search-btn']/button\")\n",
    "search_btn.click()"
   ]
  },
  {
   "cell_type": "code",
   "execution_count": 54,
   "id": "1945a232",
   "metadata": {},
   "outputs": [
    {
     "data": {
      "text/plain": [
       "[<selenium.webdriver.remote.webelement.WebElement (session=\"94358da600fd90dd324a3b23908eb593\", element=\"6cd78651-8cf5-421f-8af1-5553b3e034c8\")>,\n",
       " <selenium.webdriver.remote.webelement.WebElement (session=\"94358da600fd90dd324a3b23908eb593\", element=\"0e78a3f4-7c7c-4053-b7ec-49a6632bd65c\")>,\n",
       " <selenium.webdriver.remote.webelement.WebElement (session=\"94358da600fd90dd324a3b23908eb593\", element=\"8f702449-c609-48c5-a77e-aab1e06da05d\")>]"
      ]
     },
     "execution_count": 54,
     "metadata": {},
     "output_type": "execute_result"
    }
   ],
   "source": [
    "title_tags = driver.find_elements_by_xpath(\"//a[@class='title fw500 ellipsis']\")\n",
    "title_tags[0:3]"
   ]
  },
  {
   "cell_type": "code",
   "execution_count": 55,
   "id": "190bd3d7",
   "metadata": {},
   "outputs": [
    {
     "data": {
      "text/plain": [
       "['Lead / Principal Data Scientist',\n",
       " 'Data Scientist',\n",
       " 'Senior Data Scientist',\n",
       " 'Senior Data Scientist',\n",
       " 'Data Scientist - Credit Risk',\n",
       " 'Lead/Senior Data Scientist (NLP)',\n",
       " 'Data Scientist 2',\n",
       " 'Machine Learning AI Data Scientist',\n",
       " 'Sr. Associate Consultant Data Scientist',\n",
       " 'Senior Engineer - AIML - Data Scientist',\n",
       " 'Data Scientist /Senior Data Science Executive',\n",
       " 'Data Scientist: Advanced Analytics',\n",
       " 'Data Scientist: Advanced Analytics',\n",
       " 'Cognitive Data Scientist',\n",
       " 'Deputy Manager - Data Scientist',\n",
       " 'Tcs Hiring For Azure ML Data Scientist',\n",
       " 'Hiring For \"Data Scientist\" For leading Big 4 Consulting firm',\n",
       " 'Jr. Data Analyst/ Jr. Data Scientist',\n",
       " 'Data Scientist - Marketing Analysis | Hudsons Bay Company-SAKS',\n",
       " 'Data Science - Senior Data Scientist']"
      ]
     },
     "execution_count": 55,
     "metadata": {},
     "output_type": "execute_result"
    }
   ],
   "source": [
    "job_title = []\n",
    "\n",
    "for i in title_tags:\n",
    "    job_title.append(i.text)\n",
    "    \n",
    "job_title"
   ]
  },
  {
   "cell_type": "code",
   "execution_count": 56,
   "id": "3971a458",
   "metadata": {},
   "outputs": [
    {
     "data": {
      "text/plain": [
       "[<selenium.webdriver.remote.webelement.WebElement (session=\"94358da600fd90dd324a3b23908eb593\", element=\"ed4068e7-d02c-4865-a974-1b41b4e1ba6e\")>,\n",
       " <selenium.webdriver.remote.webelement.WebElement (session=\"94358da600fd90dd324a3b23908eb593\", element=\"ac8e5c82-4cf1-40f8-9940-e54b7f0c03a1\")>,\n",
       " <selenium.webdriver.remote.webelement.WebElement (session=\"94358da600fd90dd324a3b23908eb593\", element=\"19fcec8e-7db1-4f25-95ed-7d2ac3fc719b\")>,\n",
       " <selenium.webdriver.remote.webelement.WebElement (session=\"94358da600fd90dd324a3b23908eb593\", element=\"99e9bed1-d63c-4864-9d10-0bfcaf57cbb9\")>]"
      ]
     },
     "execution_count": 56,
     "metadata": {},
     "output_type": "execute_result"
    }
   ],
   "source": [
    "loc_tags = driver.find_elements_by_xpath(\"//li[@class='fleft grey-text br2 placeHolderLi location']/span[1]\")\n",
    "loc_tags[0:4]"
   ]
  },
  {
   "cell_type": "code",
   "execution_count": 57,
   "id": "b627b29c",
   "metadata": {},
   "outputs": [
    {
     "data": {
      "text/plain": [
       "['Mumbai, Hyderabad/Secunderabad, Pune, Delhi / NCR, Bangalore/Bengaluru',\n",
       " 'Bangalore/Bengaluru',\n",
       " 'Bangalore/Bengaluru',\n",
       " 'Bangalore/Bengaluru',\n",
       " 'Bangalore/Bengaluru',\n",
       " 'Bangalore/Bengaluru',\n",
       " 'Bangalore/Bengaluru',\n",
       " 'Bangalore/Bengaluru',\n",
       " 'Bangalore/Bengaluru',\n",
       " 'Bangalore/Bengaluru',\n",
       " 'Kolkata, Mumbai, Bangalore/Bengaluru',\n",
       " 'Bengaluru/Bangalore',\n",
       " 'Bangalore/Bengaluru',\n",
       " 'Bangalore/Bengaluru',\n",
       " 'Bangalore/Bengaluru',\n",
       " 'Hyderabad/Secunderabad, Bangalore/Bengaluru, Mumbai (All Areas)',\n",
       " 'Bangalore/Bengaluru, Mumbai (All Areas)',\n",
       " 'Hyderabad/Secunderabad, Bangalore/Bengaluru, Mumbai (All Areas)',\n",
       " 'Bangalore/Bengaluru',\n",
       " 'Noida, Bangalore/Bengaluru']"
      ]
     },
     "execution_count": 57,
     "metadata": {},
     "output_type": "execute_result"
    }
   ],
   "source": [
    "job_loc = []\n",
    "\n",
    "for i in loc_tags:\n",
    "    job_loc.append(i.text)\n",
    "    \n",
    "job_loc"
   ]
  },
  {
   "cell_type": "code",
   "execution_count": 58,
   "id": "897e193e",
   "metadata": {},
   "outputs": [
    {
     "data": {
      "text/plain": [
       "[<selenium.webdriver.remote.webelement.WebElement (session=\"94358da600fd90dd324a3b23908eb593\", element=\"b13c8603-68e5-49d3-bc72-899f36bd128c\")>,\n",
       " <selenium.webdriver.remote.webelement.WebElement (session=\"94358da600fd90dd324a3b23908eb593\", element=\"f624c9fa-4399-4083-b9c8-1a299bd78b12\")>,\n",
       " <selenium.webdriver.remote.webelement.WebElement (session=\"94358da600fd90dd324a3b23908eb593\", element=\"fbbb6dd4-36ce-401f-b943-0e9a193b2e34\")>,\n",
       " <selenium.webdriver.remote.webelement.WebElement (session=\"94358da600fd90dd324a3b23908eb593\", element=\"a51878c1-54fa-42a5-a4d6-b2ee2252f80e\")>]"
      ]
     },
     "execution_count": 58,
     "metadata": {},
     "output_type": "execute_result"
    }
   ],
   "source": [
    "comp_tags = driver.find_elements_by_xpath(\"//a[@class='subTitle ellipsis fleft']\")\n",
    "comp_tags[0:4]"
   ]
  },
  {
   "cell_type": "code",
   "execution_count": 59,
   "id": "c38d57a4",
   "metadata": {},
   "outputs": [
    {
     "data": {
      "text/plain": [
       "['Aviso Inc',\n",
       " 'Snaphunt',\n",
       " 'Ally-Executive',\n",
       " 'Visa',\n",
       " 'Scienaptic Systems',\n",
       " 'Samya.AI A FRACTAL Entity',\n",
       " 'ANI Technologies Pvt. Ltd.',\n",
       " 'EKO Infomatics Solutions Private Limited',\n",
       " 'Eli Lilly and Company',\n",
       " 'Unisys',\n",
       " 'Sejal Consulting Hub',\n",
       " 'IBM India Pvt. Limited',\n",
       " 'IBM India Pvt. Limited',\n",
       " 'IBM India Pvt. Limited',\n",
       " 'HDFC LIFE INSURANCE COMPANY LIMITED',\n",
       " 'Tata Consultancy Services Ltd.',\n",
       " 'LIVE CONNECTIONS PLACEMENTS PRIVATE LIMITED',\n",
       " 'Sejal Consulting Hub',\n",
       " 'TALENT500 TECH (INDIA) PRIVATE LIMITED',\n",
       " 'Paytm']"
      ]
     },
     "execution_count": 59,
     "metadata": {},
     "output_type": "execute_result"
    }
   ],
   "source": [
    "comp_name = []\n",
    "\n",
    "for i in comp_tags:\n",
    "    comp_name.append(i.text)\n",
    "    \n",
    "comp_name"
   ]
  },
  {
   "cell_type": "code",
   "execution_count": 61,
   "id": "5199c16f",
   "metadata": {},
   "outputs": [
    {
     "data": {
      "text/html": [
       "<div>\n",
       "<style scoped>\n",
       "    .dataframe tbody tr th:only-of-type {\n",
       "        vertical-align: middle;\n",
       "    }\n",
       "\n",
       "    .dataframe tbody tr th {\n",
       "        vertical-align: top;\n",
       "    }\n",
       "\n",
       "    .dataframe thead th {\n",
       "        text-align: right;\n",
       "    }\n",
       "</style>\n",
       "<table border=\"1\" class=\"dataframe\">\n",
       "  <thead>\n",
       "    <tr style=\"text-align: right;\">\n",
       "      <th></th>\n",
       "      <th>Job Title</th>\n",
       "      <th>Company Name</th>\n",
       "      <th>Location</th>\n",
       "    </tr>\n",
       "  </thead>\n",
       "  <tbody>\n",
       "    <tr>\n",
       "      <th>0</th>\n",
       "      <td>Lead / Principal Data Scientist</td>\n",
       "      <td>Aviso Inc</td>\n",
       "      <td>Mumbai, Hyderabad/Secunderabad, Pune, Delhi / ...</td>\n",
       "    </tr>\n",
       "    <tr>\n",
       "      <th>1</th>\n",
       "      <td>Data Scientist</td>\n",
       "      <td>Snaphunt</td>\n",
       "      <td>Bangalore/Bengaluru</td>\n",
       "    </tr>\n",
       "    <tr>\n",
       "      <th>2</th>\n",
       "      <td>Senior Data Scientist</td>\n",
       "      <td>Ally-Executive</td>\n",
       "      <td>Bangalore/Bengaluru</td>\n",
       "    </tr>\n",
       "    <tr>\n",
       "      <th>3</th>\n",
       "      <td>Senior Data Scientist</td>\n",
       "      <td>Visa</td>\n",
       "      <td>Bangalore/Bengaluru</td>\n",
       "    </tr>\n",
       "    <tr>\n",
       "      <th>4</th>\n",
       "      <td>Data Scientist - Credit Risk</td>\n",
       "      <td>Scienaptic Systems</td>\n",
       "      <td>Bangalore/Bengaluru</td>\n",
       "    </tr>\n",
       "    <tr>\n",
       "      <th>5</th>\n",
       "      <td>Lead/Senior Data Scientist (NLP)</td>\n",
       "      <td>Samya.AI A FRACTAL Entity</td>\n",
       "      <td>Bangalore/Bengaluru</td>\n",
       "    </tr>\n",
       "    <tr>\n",
       "      <th>6</th>\n",
       "      <td>Data Scientist 2</td>\n",
       "      <td>ANI Technologies Pvt. Ltd.</td>\n",
       "      <td>Bangalore/Bengaluru</td>\n",
       "    </tr>\n",
       "    <tr>\n",
       "      <th>7</th>\n",
       "      <td>Machine Learning AI Data Scientist</td>\n",
       "      <td>EKO Infomatics Solutions Private Limited</td>\n",
       "      <td>Bangalore/Bengaluru</td>\n",
       "    </tr>\n",
       "    <tr>\n",
       "      <th>8</th>\n",
       "      <td>Sr. Associate Consultant Data Scientist</td>\n",
       "      <td>Eli Lilly and Company</td>\n",
       "      <td>Bangalore/Bengaluru</td>\n",
       "    </tr>\n",
       "    <tr>\n",
       "      <th>9</th>\n",
       "      <td>Senior Engineer - AIML - Data Scientist</td>\n",
       "      <td>Unisys</td>\n",
       "      <td>Bangalore/Bengaluru</td>\n",
       "    </tr>\n",
       "  </tbody>\n",
       "</table>\n",
       "</div>"
      ],
      "text/plain": [
       "                                 Job Title  \\\n",
       "0          Lead / Principal Data Scientist   \n",
       "1                           Data Scientist   \n",
       "2                    Senior Data Scientist   \n",
       "3                    Senior Data Scientist   \n",
       "4             Data Scientist - Credit Risk   \n",
       "5         Lead/Senior Data Scientist (NLP)   \n",
       "6                         Data Scientist 2   \n",
       "7       Machine Learning AI Data Scientist   \n",
       "8  Sr. Associate Consultant Data Scientist   \n",
       "9  Senior Engineer - AIML - Data Scientist   \n",
       "\n",
       "                               Company Name  \\\n",
       "0                                 Aviso Inc   \n",
       "1                                  Snaphunt   \n",
       "2                            Ally-Executive   \n",
       "3                                      Visa   \n",
       "4                        Scienaptic Systems   \n",
       "5                 Samya.AI A FRACTAL Entity   \n",
       "6                ANI Technologies Pvt. Ltd.   \n",
       "7  EKO Infomatics Solutions Private Limited   \n",
       "8                     Eli Lilly and Company   \n",
       "9                                    Unisys   \n",
       "\n",
       "                                            Location  \n",
       "0  Mumbai, Hyderabad/Secunderabad, Pune, Delhi / ...  \n",
       "1                                Bangalore/Bengaluru  \n",
       "2                                Bangalore/Bengaluru  \n",
       "3                                Bangalore/Bengaluru  \n",
       "4                                Bangalore/Bengaluru  \n",
       "5                                Bangalore/Bengaluru  \n",
       "6                                Bangalore/Bengaluru  \n",
       "7                                Bangalore/Bengaluru  \n",
       "8                                Bangalore/Bengaluru  \n",
       "9                                Bangalore/Bengaluru  "
      ]
     },
     "execution_count": 61,
     "metadata": {},
     "output_type": "execute_result"
    }
   ],
   "source": [
    "naukri_b = pd.DataFrame({\"Job Title\":job_title,\"Company Name\":comp_name,\"Location\":job_loc})\n",
    "naukri_b[0:10]"
   ]
  },
  {
   "cell_type": "code",
   "execution_count": null,
   "id": "c2bfca26",
   "metadata": {},
   "outputs": [],
   "source": []
  },
  {
   "cell_type": "markdown",
   "id": "03d6a22f",
   "metadata": {},
   "source": [
    "# Q3: In this question you have to scrape data using the filters available on thewebpage as shown below:\n",
    "\n",
    "You have to use the location and salary filter.\n",
    "\n",
    "You have to scrape data for “Data Scientist” designation for first 10 job results.\n",
    "\n",
    "You have to scrape the job-title, job-location, company name, experience required. The location filter to be used is \n",
    "\n",
    "“Delhi/NCR”The salary filter to be used is “3-6” lakhs"
   ]
  },
  {
   "cell_type": "code",
   "execution_count": 63,
   "id": "16d5c507",
   "metadata": {},
   "outputs": [],
   "source": [
    "driver.get('https://www.naukri.com/')"
   ]
  },
  {
   "cell_type": "code",
   "execution_count": 64,
   "id": "ec475e4c",
   "metadata": {},
   "outputs": [],
   "source": [
    "search_job = driver.find_element_by_id('qsb-keyword-sugg')\n",
    "search_job.send_keys('Data Scientist')\n",
    "\n",
    "search_loc = driver.find_element_by_id('qsb-location-sugg')\n",
    "search_loc.send_keys('Delhi/NCR')"
   ]
  },
  {
   "cell_type": "code",
   "execution_count": 65,
   "id": "3c020d7c",
   "metadata": {},
   "outputs": [],
   "source": [
    "search_btn = driver.find_element_by_xpath(\"//div[@class='search-btn']/button\")\n",
    "search_btn.click()"
   ]
  },
  {
   "cell_type": "code",
   "execution_count": 67,
   "id": "9b465404",
   "metadata": {},
   "outputs": [],
   "source": [
    "filter_loc = driver.find_element_by_xpath(\"/html/body/div[1]/div[3]/div[2]/section[1]/div[2]/div[3]/div[2]/div[2]/label/i\")\n",
    "filter_loc.click()"
   ]
  },
  {
   "cell_type": "code",
   "execution_count": 70,
   "id": "f6acbdcb",
   "metadata": {},
   "outputs": [],
   "source": [
    "filter_sal = driver.find_element_by_xpath(\"/html/body/div[1]/div[3]/div[2]/section[1]/div[2]/div[4]/div[2]/div[2]/label/i\")\n",
    "filter_sal.click()"
   ]
  },
  {
   "cell_type": "code",
   "execution_count": 71,
   "id": "b0ec8170",
   "metadata": {},
   "outputs": [
    {
     "data": {
      "text/plain": [
       "[<selenium.webdriver.remote.webelement.WebElement (session=\"d6650f110314e29c9ab1142ec8cc0d0d\", element=\"ab7446b9-0eac-4ceb-86c0-0b41ecc05d38\")>,\n",
       " <selenium.webdriver.remote.webelement.WebElement (session=\"d6650f110314e29c9ab1142ec8cc0d0d\", element=\"9aa1b2a5-150b-4585-89ec-87625acf1694\")>,\n",
       " <selenium.webdriver.remote.webelement.WebElement (session=\"d6650f110314e29c9ab1142ec8cc0d0d\", element=\"ab5445b8-af70-4b9a-ac6c-afaf374d190e\")>,\n",
       " <selenium.webdriver.remote.webelement.WebElement (session=\"d6650f110314e29c9ab1142ec8cc0d0d\", element=\"4d2c2216-75da-45ac-9de5-9021e64fa87b\")>]"
      ]
     },
     "execution_count": 71,
     "metadata": {},
     "output_type": "execute_result"
    }
   ],
   "source": [
    "title_tags = driver.find_elements_by_xpath(\"//a[@class='title fw500 ellipsis']\")\n",
    "title_tags[0:4]"
   ]
  },
  {
   "cell_type": "code",
   "execution_count": 72,
   "id": "c6759b5e",
   "metadata": {},
   "outputs": [
    {
     "data": {
      "text/plain": [
       "['Data Scientist',\n",
       " 'Data Scientist',\n",
       " 'Data Scientist/ Senior Data Scientist',\n",
       " 'Hiring For Data Scientist',\n",
       " 'Project Manager | Team Leader | Senior Data Scientist',\n",
       " 'Data Scientist',\n",
       " 'Senior Data Scientist',\n",
       " 'Data Scientist',\n",
       " 'NTT DATA_ Hiring For BIG DATA ,DATA Scientist, Devops',\n",
       " 'Data Scientist',\n",
       " 'Data Scientist',\n",
       " 'Data Scientist',\n",
       " 'Data Scientist',\n",
       " 'Data Scientist',\n",
       " 'Associate Data Scientist',\n",
       " 'Associate Data Scientist',\n",
       " 'Data Analyst / Data Scientist / Business Analytics / Fresher - MNC',\n",
       " 'Data Scientist',\n",
       " 'Data Scientist',\n",
       " 'Data Scientist']"
      ]
     },
     "execution_count": 72,
     "metadata": {},
     "output_type": "execute_result"
    }
   ],
   "source": [
    "job_title = []\n",
    "\n",
    "for i in title_tags:\n",
    "    job_title.append(i.text)\n",
    "    \n",
    "job_title"
   ]
  },
  {
   "cell_type": "code",
   "execution_count": 73,
   "id": "d7f75df2",
   "metadata": {},
   "outputs": [
    {
     "data": {
      "text/plain": [
       "[<selenium.webdriver.remote.webelement.WebElement (session=\"d6650f110314e29c9ab1142ec8cc0d0d\", element=\"de532cb6-dbc8-42ca-84a1-0141a8fb1817\")>,\n",
       " <selenium.webdriver.remote.webelement.WebElement (session=\"d6650f110314e29c9ab1142ec8cc0d0d\", element=\"4f5a6eb1-52fe-404b-8401-324395811cfe\")>,\n",
       " <selenium.webdriver.remote.webelement.WebElement (session=\"d6650f110314e29c9ab1142ec8cc0d0d\", element=\"cc3982cc-0327-4133-a6b1-6948048e4dea\")>,\n",
       " <selenium.webdriver.remote.webelement.WebElement (session=\"d6650f110314e29c9ab1142ec8cc0d0d\", element=\"bbdc6351-3d9c-43bd-bb17-686afedd95a7\")>]"
      ]
     },
     "execution_count": 73,
     "metadata": {},
     "output_type": "execute_result"
    }
   ],
   "source": [
    "com_tags = driver.find_elements_by_xpath(\"//a[@class='subTitle ellipsis fleft']\")\n",
    "com_tags[0:4]"
   ]
  },
  {
   "cell_type": "code",
   "execution_count": 74,
   "id": "1f9bd0fd",
   "metadata": {},
   "outputs": [
    {
     "data": {
      "text/plain": [
       "['LG Electronics India Pvt. Ltd.',\n",
       " 'Navikenz India Pvt Ltd',\n",
       " 'Newgen Software Technologies',\n",
       " 'Tata Consultancy Services Ltd.',\n",
       " 'Tidyquant (OPC) Private Limited',\n",
       " 'Teleperformance',\n",
       " 'iNICU',\n",
       " 'The Boston Consulting Group (India) Pvt Limited',\n",
       " 'NTT Data Business Solutions Pvt Ltd',\n",
       " 'BlackBuck',\n",
       " 'Country Veggie',\n",
       " 'Sentieo',\n",
       " 'Mahajan Imaging',\n",
       " 'Mahajan Imaging',\n",
       " 'Right Step Consulting',\n",
       " 'Blow Trumpet Solutions',\n",
       " 'GABA Consultancy services',\n",
       " 'ApplyBoard',\n",
       " 'AVE-Promagne',\n",
       " 'MoMagic Technologies']"
      ]
     },
     "execution_count": 74,
     "metadata": {},
     "output_type": "execute_result"
    }
   ],
   "source": [
    "comp_name = []\n",
    "\n",
    "for i in com_tags:\n",
    "    comp_name.append(i.text)\n",
    "    \n",
    "comp_name"
   ]
  },
  {
   "cell_type": "code",
   "execution_count": 75,
   "id": "18cf79c4",
   "metadata": {},
   "outputs": [
    {
     "data": {
      "text/plain": [
       "[<selenium.webdriver.remote.webelement.WebElement (session=\"d6650f110314e29c9ab1142ec8cc0d0d\", element=\"ea76f034-74be-47c3-9f5f-712b64a4aa50\")>,\n",
       " <selenium.webdriver.remote.webelement.WebElement (session=\"d6650f110314e29c9ab1142ec8cc0d0d\", element=\"e27f68ad-8c8d-4780-a413-84883a18206b\")>,\n",
       " <selenium.webdriver.remote.webelement.WebElement (session=\"d6650f110314e29c9ab1142ec8cc0d0d\", element=\"56af6e17-c2cd-4d3f-b06f-2b8695348691\")>]"
      ]
     },
     "execution_count": 75,
     "metadata": {},
     "output_type": "execute_result"
    }
   ],
   "source": [
    "exp_tags = driver.find_elements_by_xpath(\"//li[@class='fleft grey-text br2 placeHolderLi experience']/span[1]\")\n",
    "exp_tags[0:3]"
   ]
  },
  {
   "cell_type": "code",
   "execution_count": 76,
   "id": "b1d8604c",
   "metadata": {},
   "outputs": [
    {
     "data": {
      "text/plain": [
       "['0-2 Yrs',\n",
       " '2-7 Yrs',\n",
       " '2-5 Yrs',\n",
       " '4-9 Yrs',\n",
       " '1-5 Yrs',\n",
       " '4-9 Yrs',\n",
       " '1-5 Yrs',\n",
       " '2-5 Yrs',\n",
       " '3-8 Yrs',\n",
       " '3-7 Yrs',\n",
       " '1-3 Yrs',\n",
       " '2-7 Yrs',\n",
       " '2-6 Yrs',\n",
       " '2-6 Yrs',\n",
       " '3-6 Yrs',\n",
       " '1-5 Yrs',\n",
       " '0-0 Yrs',\n",
       " '3-7 Yrs',\n",
       " '1-6 Yrs',\n",
       " '4-6 Yrs']"
      ]
     },
     "execution_count": 76,
     "metadata": {},
     "output_type": "execute_result"
    }
   ],
   "source": [
    "exp = []\n",
    "\n",
    "for i in exp_tags:\n",
    "    exp.append(i.text)\n",
    "    \n",
    "exp"
   ]
  },
  {
   "cell_type": "code",
   "execution_count": 77,
   "id": "b21ab45f",
   "metadata": {},
   "outputs": [
    {
     "data": {
      "text/plain": [
       "[<selenium.webdriver.remote.webelement.WebElement (session=\"d6650f110314e29c9ab1142ec8cc0d0d\", element=\"fa2cc088-94a0-425e-8f66-009d66191619\")>,\n",
       " <selenium.webdriver.remote.webelement.WebElement (session=\"d6650f110314e29c9ab1142ec8cc0d0d\", element=\"248dc6fc-e305-4ece-96f7-820c3743a689\")>,\n",
       " <selenium.webdriver.remote.webelement.WebElement (session=\"d6650f110314e29c9ab1142ec8cc0d0d\", element=\"83d752e2-bbbe-45fd-b38c-7a389929e2b7\")>,\n",
       " <selenium.webdriver.remote.webelement.WebElement (session=\"d6650f110314e29c9ab1142ec8cc0d0d\", element=\"d12aeded-6712-4305-bb11-ffdf40168ca5\")>]"
      ]
     },
     "execution_count": 77,
     "metadata": {},
     "output_type": "execute_result"
    }
   ],
   "source": [
    "loc_tags = driver.find_elements_by_xpath(\"//li[@class='fleft grey-text br2 placeHolderLi location']/span[1]\")\n",
    "loc_tags[0:4]"
   ]
  },
  {
   "cell_type": "code",
   "execution_count": 78,
   "id": "b7885f4a",
   "metadata": {},
   "outputs": [
    {
     "data": {
      "text/plain": [
       "['Noida, New Delhi, Faridabad, Gurgaon/Gurugram, Delhi / NCR',\n",
       " 'Noida, Nodia',\n",
       " 'Noida',\n",
       " 'Hyderabad/Secunderabad, Pune, Chennai, Bangalore/Bengaluru, Delhi / NCR, Mumbai (All Areas)',\n",
       " 'Remote',\n",
       " 'Gurgaon/Gurugram, Chennai',\n",
       " 'Delhi',\n",
       " 'New Delhi',\n",
       " 'Noida, Kolkata, Hyderabad/Secunderabad, Ahmedabad, Chennai, Coimbatore, Bangalore/Bengaluru, Delhi / NCR, Mumbai (All Areas)',\n",
       " 'Gurgaon, Bengaluru',\n",
       " 'Bharuch, Jaipur, Bhopal, Mumbai, Jhansi, Nagpur, Ghaziabad, Jaunpur, Kanpur, Delhi, Lucknow, Agra, Gurgaon, Rajkot, Bengaluru',\n",
       " 'Delhi',\n",
       " 'Delhi',\n",
       " 'Delhi',\n",
       " 'Noida',\n",
       " 'Delhi',\n",
       " 'Noida, Ghaziabad, Delhi / NCR',\n",
       " 'Gurgaon/Gurugram',\n",
       " 'Mumbai, Hyderabad/Secunderabad, Pune, Lucknow, Chennai, Delhi / NCR, Kerela, Goa',\n",
       " 'Noida(Sector-126 Noida)']"
      ]
     },
     "execution_count": 78,
     "metadata": {},
     "output_type": "execute_result"
    }
   ],
   "source": [
    "job_loc = []\n",
    "\n",
    "for i in loc_tags:\n",
    "    job_loc.append(i.text)\n",
    "    \n",
    "job_loc"
   ]
  },
  {
   "cell_type": "code",
   "execution_count": 79,
   "id": "0c7c4454",
   "metadata": {},
   "outputs": [
    {
     "data": {
      "text/html": [
       "<div>\n",
       "<style scoped>\n",
       "    .dataframe tbody tr th:only-of-type {\n",
       "        vertical-align: middle;\n",
       "    }\n",
       "\n",
       "    .dataframe tbody tr th {\n",
       "        vertical-align: top;\n",
       "    }\n",
       "\n",
       "    .dataframe thead th {\n",
       "        text-align: right;\n",
       "    }\n",
       "</style>\n",
       "<table border=\"1\" class=\"dataframe\">\n",
       "  <thead>\n",
       "    <tr style=\"text-align: right;\">\n",
       "      <th></th>\n",
       "      <th>Job Title</th>\n",
       "      <th>Company Name</th>\n",
       "      <th>Location</th>\n",
       "      <th>Experience</th>\n",
       "    </tr>\n",
       "  </thead>\n",
       "  <tbody>\n",
       "    <tr>\n",
       "      <th>0</th>\n",
       "      <td>Data Scientist</td>\n",
       "      <td>LG Electronics India Pvt. Ltd.</td>\n",
       "      <td>Noida, New Delhi, Faridabad, Gurgaon/Gurugram,...</td>\n",
       "      <td>0-2 Yrs</td>\n",
       "    </tr>\n",
       "    <tr>\n",
       "      <th>1</th>\n",
       "      <td>Data Scientist</td>\n",
       "      <td>Navikenz India Pvt Ltd</td>\n",
       "      <td>Noida, Nodia</td>\n",
       "      <td>2-7 Yrs</td>\n",
       "    </tr>\n",
       "    <tr>\n",
       "      <th>2</th>\n",
       "      <td>Data Scientist/ Senior Data Scientist</td>\n",
       "      <td>Newgen Software Technologies</td>\n",
       "      <td>Noida</td>\n",
       "      <td>2-5 Yrs</td>\n",
       "    </tr>\n",
       "    <tr>\n",
       "      <th>3</th>\n",
       "      <td>Hiring For Data Scientist</td>\n",
       "      <td>Tata Consultancy Services Ltd.</td>\n",
       "      <td>Hyderabad/Secunderabad, Pune, Chennai, Bangalo...</td>\n",
       "      <td>4-9 Yrs</td>\n",
       "    </tr>\n",
       "    <tr>\n",
       "      <th>4</th>\n",
       "      <td>Project Manager | Team Leader | Senior Data Sc...</td>\n",
       "      <td>Tidyquant (OPC) Private Limited</td>\n",
       "      <td>Remote</td>\n",
       "      <td>1-5 Yrs</td>\n",
       "    </tr>\n",
       "    <tr>\n",
       "      <th>5</th>\n",
       "      <td>Data Scientist</td>\n",
       "      <td>Teleperformance</td>\n",
       "      <td>Gurgaon/Gurugram, Chennai</td>\n",
       "      <td>4-9 Yrs</td>\n",
       "    </tr>\n",
       "    <tr>\n",
       "      <th>6</th>\n",
       "      <td>Senior Data Scientist</td>\n",
       "      <td>iNICU</td>\n",
       "      <td>Delhi</td>\n",
       "      <td>1-5 Yrs</td>\n",
       "    </tr>\n",
       "    <tr>\n",
       "      <th>7</th>\n",
       "      <td>Data Scientist</td>\n",
       "      <td>The Boston Consulting Group (India) Pvt Limited</td>\n",
       "      <td>New Delhi</td>\n",
       "      <td>2-5 Yrs</td>\n",
       "    </tr>\n",
       "    <tr>\n",
       "      <th>8</th>\n",
       "      <td>NTT DATA_ Hiring For BIG DATA ,DATA Scientist,...</td>\n",
       "      <td>NTT Data Business Solutions Pvt Ltd</td>\n",
       "      <td>Noida, Kolkata, Hyderabad/Secunderabad, Ahmeda...</td>\n",
       "      <td>3-8 Yrs</td>\n",
       "    </tr>\n",
       "    <tr>\n",
       "      <th>9</th>\n",
       "      <td>Data Scientist</td>\n",
       "      <td>BlackBuck</td>\n",
       "      <td>Gurgaon, Bengaluru</td>\n",
       "      <td>3-7 Yrs</td>\n",
       "    </tr>\n",
       "  </tbody>\n",
       "</table>\n",
       "</div>"
      ],
      "text/plain": [
       "                                           Job Title  \\\n",
       "0                                     Data Scientist   \n",
       "1                                     Data Scientist   \n",
       "2              Data Scientist/ Senior Data Scientist   \n",
       "3                          Hiring For Data Scientist   \n",
       "4  Project Manager | Team Leader | Senior Data Sc...   \n",
       "5                                     Data Scientist   \n",
       "6                              Senior Data Scientist   \n",
       "7                                     Data Scientist   \n",
       "8  NTT DATA_ Hiring For BIG DATA ,DATA Scientist,...   \n",
       "9                                     Data Scientist   \n",
       "\n",
       "                                      Company Name  \\\n",
       "0                   LG Electronics India Pvt. Ltd.   \n",
       "1                           Navikenz India Pvt Ltd   \n",
       "2                     Newgen Software Technologies   \n",
       "3                   Tata Consultancy Services Ltd.   \n",
       "4                  Tidyquant (OPC) Private Limited   \n",
       "5                                  Teleperformance   \n",
       "6                                            iNICU   \n",
       "7  The Boston Consulting Group (India) Pvt Limited   \n",
       "8              NTT Data Business Solutions Pvt Ltd   \n",
       "9                                        BlackBuck   \n",
       "\n",
       "                                            Location Experience  \n",
       "0  Noida, New Delhi, Faridabad, Gurgaon/Gurugram,...    0-2 Yrs  \n",
       "1                                       Noida, Nodia    2-7 Yrs  \n",
       "2                                              Noida    2-5 Yrs  \n",
       "3  Hyderabad/Secunderabad, Pune, Chennai, Bangalo...    4-9 Yrs  \n",
       "4                                             Remote    1-5 Yrs  \n",
       "5                          Gurgaon/Gurugram, Chennai    4-9 Yrs  \n",
       "6                                              Delhi    1-5 Yrs  \n",
       "7                                          New Delhi    2-5 Yrs  \n",
       "8  Noida, Kolkata, Hyderabad/Secunderabad, Ahmeda...    3-8 Yrs  \n",
       "9                                 Gurgaon, Bengaluru    3-7 Yrs  "
      ]
     },
     "execution_count": 79,
     "metadata": {},
     "output_type": "execute_result"
    }
   ],
   "source": [
    "naukri_filter_df = pd.DataFrame({\"Job Title\":job_title,\"Company Name\":comp_name,\"Location\":job_loc,\"Experience\":exp})\n",
    "naukri_filter_df[0:10]"
   ]
  },
  {
   "cell_type": "code",
   "execution_count": null,
   "id": "c69373fe",
   "metadata": {},
   "outputs": [],
   "source": []
  },
  {
   "cell_type": "code",
   "execution_count": 80,
   "id": "680df1c9",
   "metadata": {},
   "outputs": [],
   "source": [
    "driver.close()"
   ]
  },
  {
   "cell_type": "markdown",
   "id": "e68f569d",
   "metadata": {},
   "source": [
    "# Q4: Scrape data of first 100 sunglasses listings on flipkart.com. You have toscrape four attributes: \n",
    "# 1. Brand\n",
    "# 2. Product Description\n",
    "# 3. Price"
   ]
  },
  {
   "cell_type": "code",
   "execution_count": 82,
   "id": "a993d0be",
   "metadata": {},
   "outputs": [],
   "source": [
    "driver.get(\"https://www.flipkart.com/\")"
   ]
  },
  {
   "cell_type": "code",
   "execution_count": 83,
   "id": "03e21221",
   "metadata": {},
   "outputs": [],
   "source": [
    "fk_search = driver.find_element_by_xpath(\"//input[@class='_3704LK']\")\n",
    "fk_search.send_keys(\"sunglasses\")"
   ]
  },
  {
   "cell_type": "code",
   "execution_count": 85,
   "id": "c2a4e50f",
   "metadata": {},
   "outputs": [],
   "source": [
    "fk_search_btn = driver.find_element_by_xpath(\"//button[@class='L0Z3Pu']\")\n",
    "fk_search_btn.click()"
   ]
  },
  {
   "cell_type": "code",
   "execution_count": 86,
   "id": "2cde7c44",
   "metadata": {},
   "outputs": [
    {
     "data": {
      "text/plain": [
       "['LIZA ANGEL',\n",
       " 'ROYAL SON',\n",
       " 'SRPM',\n",
       " 'Elligator',\n",
       " 'New Specs',\n",
       " 'PIRASO',\n",
       " 'PIRASO',\n",
       " 'ROYAL SON',\n",
       " 'Fastrack',\n",
       " 'kingsunglasses',\n",
       " 'kingsunglasses',\n",
       " 'ROZZETTA CRAFT',\n",
       " 'SHAAH COLLECTIONS',\n",
       " 'PIRASO',\n",
       " 'ROZZETTA CRAFT',\n",
       " 'ROYAL SON',\n",
       " 'ROZZETTA CRAFT',\n",
       " 'ROYAL SON',\n",
       " 'kingsunglasses',\n",
       " 'VINCENT CHASE',\n",
       " 'SUNBEE',\n",
       " 'New Specs',\n",
       " 'ROYAL SON',\n",
       " 'VINCENT CHASE',\n",
       " 'ROZZETTA CRAFT',\n",
       " 'PHENOMENAL',\n",
       " 'PIRASO',\n",
       " 'VINCENT CHASE',\n",
       " 'PIRASO',\n",
       " 'SHAAH COLLECTIONS',\n",
       " 'PHENOMENAL',\n",
       " 'AISLIN',\n",
       " 'Singco India',\n",
       " 'PIRASO',\n",
       " 'Rich Club',\n",
       " 'ROYAL SON',\n",
       " 'hipe',\n",
       " 'agera',\n",
       " 'Rich Club',\n",
       " 'VINCENT CHASE']"
      ]
     },
     "execution_count": 86,
     "metadata": {},
     "output_type": "execute_result"
    }
   ],
   "source": [
    "brand_name = []\n",
    "\n",
    "for i in driver.find_elements_by_xpath(\"//div[@class='_2WkVRV']\"):\n",
    "    brand_name.append(i.text)\n",
    "    \n",
    "brand_name"
   ]
  },
  {
   "cell_type": "code",
   "execution_count": 88,
   "id": "6c014de6",
   "metadata": {},
   "outputs": [
    {
     "data": {
      "text/plain": [
       "['Polarized, UV Protection Round Sunglasses (52)',\n",
       " 'UV Protection Wayfarer Sunglasses (56)',\n",
       " 'UV Protection Round Sunglasses (54)',\n",
       " 'UV Protection Rectangular Sunglasses (Free Size)',\n",
       " 'UV Protection Aviator Sunglasses (54)',\n",
       " 'UV Protection Aviator Sunglasses (54)',\n",
       " 'UV Protection, Gradient Butterfly Sunglasses (60)',\n",
       " 'UV Protection Wayfarer Sunglasses (Free Size)',\n",
       " 'Mirrored, UV Protection Wayfarer Sunglasses (53)',\n",
       " 'UV Protection Round Sunglasses (54)',\n",
       " 'Gradient, UV Protection Round Sunglasses (Free Size)',\n",
       " 'UV Protection, Polarized, Mirrored Rectangular Sunglass...',\n",
       " 'UV Protection Aviator Sunglasses (55)',\n",
       " 'UV Protection, Gradient Rectangular Sunglasses (Free Si...',\n",
       " 'UV Protection, Gradient Butterfly Sunglasses (60)',\n",
       " 'UV Protection Retro Square Sunglasses (Free Size)',\n",
       " 'Mirrored Aviator Sunglasses (55)',\n",
       " 'UV Protection, Riding Glasses, Mirrored Wayfarer Sungla...',\n",
       " 'by Lenskart Polarized, UV Protection Aviator Sunglasses...',\n",
       " 'UV Protection, Polarized, Mirrored Round Sunglasses (Fr...',\n",
       " 'Mirrored, UV Protection, Riding Glasses, Others Round S...',\n",
       " 'UV Protection Rectangular Sunglasses (58)',\n",
       " 'by Lenskart UV Protection Aviator Sunglasses (Free Size...',\n",
       " 'UV Protection Round Sunglasses (Free Size)',\n",
       " 'UV Protection Retro Square Sunglasses (Free Size)',\n",
       " 'UV Protection Wayfarer Sunglasses (32)',\n",
       " 'by Lenskart Polarized, UV Protection Wayfarer Sunglasse...',\n",
       " 'UV Protection Aviator Sunglasses (54)',\n",
       " 'UV Protection, Polarized, Mirrored Rectangular Sunglass...',\n",
       " 'UV Protection, Mirrored Retro Square Sunglasses (53)',\n",
       " 'UV Protection, Gradient Cat-eye, Oval Sunglasses (61)',\n",
       " 'Mirrored, Riding Glasses, Others Sports Sunglasses (50)',\n",
       " 'UV Protection Aviator Sunglasses (58)',\n",
       " 'Polarized Round Sunglasses (48)',\n",
       " 'UV Protection, Gradient Over-sized Sunglasses (59)',\n",
       " 'UV Protection Sports Sunglasses (Free Size)',\n",
       " 'Gradient Aviator Sunglasses (55)',\n",
       " 'Polarized Round Sunglasses (48)',\n",
       " 'by Lenskart UV Protection Aviator Sunglasses (Free Size...']"
      ]
     },
     "execution_count": 88,
     "metadata": {},
     "output_type": "execute_result"
    }
   ],
   "source": [
    "prod_des = []\n",
    "\n",
    "for i in driver.find_elements_by_xpath(\"//a[@class='IRpwTa']\"):\n",
    "    prod_des.append(i.text)\n",
    "    \n",
    "prod_des"
   ]
  },
  {
   "cell_type": "code",
   "execution_count": 89,
   "id": "0daca298",
   "metadata": {},
   "outputs": [
    {
     "data": {
      "text/plain": [
       "['Polarized, UV Protection Round Sunglasses (52)',\n",
       " 'UV Protection Wayfarer Sunglasses (56)',\n",
       " 'UV Protection Round Sunglasses (54)',\n",
       " 'UV Protection Rectangular Sunglasses (Free Size)',\n",
       " 'UV Protection Aviator Sunglasses (54)',\n",
       " 'UV Protection Aviator Sunglasses (54)',\n",
       " 'UV Protection, Gradient Butterfly Sunglasses (60)',\n",
       " 'UV Protection Wayfarer Sunglasses (Free Size)',\n",
       " 'Mirrored, UV Protection Wayfarer Sunglasses (53)',\n",
       " 'UV Protection Round Sunglasses (54)',\n",
       " 'Gradient, UV Protection Round Sunglasses (Free Size)',\n",
       " 'UV Protection, Polarized, Mirrored Rectangular Sunglass...',\n",
       " 'UV Protection Aviator Sunglasses (55)',\n",
       " 'UV Protection, Gradient Rectangular Sunglasses (Free Si...',\n",
       " 'UV Protection, Gradient Butterfly Sunglasses (60)',\n",
       " 'UV Protection Retro Square Sunglasses (Free Size)',\n",
       " 'Mirrored Aviator Sunglasses (55)',\n",
       " 'UV Protection, Riding Glasses, Mirrored Wayfarer Sungla...',\n",
       " 'by Lenskart Polarized, UV Protection Aviator Sunglasses...',\n",
       " 'UV Protection, Polarized, Mirrored Round Sunglasses (Fr...',\n",
       " 'Mirrored, UV Protection, Riding Glasses, Others Round S...',\n",
       " 'UV Protection Rectangular Sunglasses (58)',\n",
       " 'by Lenskart UV Protection Aviator Sunglasses (Free Size...',\n",
       " 'UV Protection Round Sunglasses (Free Size)',\n",
       " 'UV Protection Retro Square Sunglasses (Free Size)',\n",
       " 'UV Protection Wayfarer Sunglasses (32)',\n",
       " 'by Lenskart Polarized, UV Protection Wayfarer Sunglasse...',\n",
       " 'UV Protection Aviator Sunglasses (54)',\n",
       " 'UV Protection, Polarized, Mirrored Rectangular Sunglass...',\n",
       " 'UV Protection, Mirrored Retro Square Sunglasses (53)',\n",
       " 'UV Protection, Gradient Cat-eye, Oval Sunglasses (61)',\n",
       " 'Mirrored, Riding Glasses, Others Sports Sunglasses (50)',\n",
       " 'UV Protection Aviator Sunglasses (58)',\n",
       " 'Polarized Round Sunglasses (48)',\n",
       " 'UV Protection, Gradient Over-sized Sunglasses (59)',\n",
       " 'UV Protection Sports Sunglasses (Free Size)',\n",
       " 'Gradient Aviator Sunglasses (55)',\n",
       " 'Polarized Round Sunglasses (48)',\n",
       " 'by Lenskart UV Protection Aviator Sunglasses (Free Size...']"
      ]
     },
     "execution_count": 89,
     "metadata": {},
     "output_type": "execute_result"
    }
   ],
   "source": [
    "prod_des"
   ]
  },
  {
   "cell_type": "code",
   "execution_count": 90,
   "id": "1a13984f",
   "metadata": {},
   "outputs": [
    {
     "data": {
      "text/plain": [
       "['₹238',\n",
       " '₹759',\n",
       " '₹188',\n",
       " '₹248',\n",
       " '₹259',\n",
       " '₹200',\n",
       " '₹187',\n",
       " '₹664',\n",
       " '₹699',\n",
       " '₹274',\n",
       " '₹189',\n",
       " '₹426',\n",
       " '₹170',\n",
       " '₹179',\n",
       " '₹383',\n",
       " '₹664',\n",
       " '₹474',\n",
       " '₹359',\n",
       " '₹187',\n",
       " '₹999',\n",
       " '₹271',\n",
       " '₹259',\n",
       " '₹449',\n",
       " '₹999',\n",
       " '₹426',\n",
       " '₹319',\n",
       " '₹187',\n",
       " '₹1,415',\n",
       " '₹187',\n",
       " '₹181',\n",
       " '₹299',\n",
       " '₹446',\n",
       " '₹194',\n",
       " '₹299',\n",
       " '₹175',\n",
       " '₹664',\n",
       " '₹287',\n",
       " '₹196',\n",
       " '₹163',\n",
       " '₹999']"
      ]
     },
     "execution_count": 90,
     "metadata": {},
     "output_type": "execute_result"
    }
   ],
   "source": [
    "price = []\n",
    "\n",
    "for i in driver.find_elements_by_xpath(\"//div[@class='_30jeq3']\"):\n",
    "    price.append(i.text)\n",
    "    \n",
    "price"
   ]
  },
  {
   "cell_type": "code",
   "execution_count": 91,
   "id": "f42df0b8",
   "metadata": {},
   "outputs": [],
   "source": [
    "fk_next = driver.find_element_by_xpath(\"//a[@class='_1LKTO3']\")\n",
    "fk_next.click()"
   ]
  },
  {
   "cell_type": "code",
   "execution_count": 92,
   "id": "e6e522a8",
   "metadata": {},
   "outputs": [
    {
     "data": {
      "text/plain": [
       "['LIZA ANGEL',\n",
       " 'ROYAL SON',\n",
       " 'SRPM',\n",
       " 'Elligator',\n",
       " 'New Specs',\n",
       " 'PIRASO',\n",
       " 'PIRASO',\n",
       " 'ROYAL SON',\n",
       " 'Fastrack',\n",
       " 'kingsunglasses',\n",
       " 'kingsunglasses',\n",
       " 'ROZZETTA CRAFT',\n",
       " 'SHAAH COLLECTIONS',\n",
       " 'PIRASO',\n",
       " 'ROZZETTA CRAFT',\n",
       " 'ROYAL SON',\n",
       " 'ROZZETTA CRAFT',\n",
       " 'ROYAL SON',\n",
       " 'kingsunglasses',\n",
       " 'VINCENT CHASE',\n",
       " 'SUNBEE',\n",
       " 'New Specs',\n",
       " 'ROYAL SON',\n",
       " 'VINCENT CHASE',\n",
       " 'ROZZETTA CRAFT',\n",
       " 'PHENOMENAL',\n",
       " 'PIRASO',\n",
       " 'VINCENT CHASE',\n",
       " 'PIRASO',\n",
       " 'SHAAH COLLECTIONS',\n",
       " 'PHENOMENAL',\n",
       " 'AISLIN',\n",
       " 'Singco India',\n",
       " 'PIRASO',\n",
       " 'Rich Club',\n",
       " 'ROYAL SON',\n",
       " 'hipe',\n",
       " 'agera',\n",
       " 'Rich Club',\n",
       " 'VINCENT CHASE',\n",
       " 'Rich Club',\n",
       " 'hipe',\n",
       " 'ROZZETTA CRAFT',\n",
       " 'VINCENT CHASE',\n",
       " 'kingsunglasses',\n",
       " 'Singco India',\n",
       " 'PIRASO',\n",
       " 'AISLIN',\n",
       " 'PIRASO',\n",
       " 'Lee Topper',\n",
       " 'ROYAL SON',\n",
       " 'AISLIN',\n",
       " 'SUNBEE',\n",
       " 'ROZZETTA CRAFT',\n",
       " 'ROYAL SON',\n",
       " 'ROYAL SON',\n",
       " 'PIRASO',\n",
       " 'PHENOMENAL',\n",
       " 'Rich Club',\n",
       " 'ROYAL SON',\n",
       " 'kingsunglasses',\n",
       " 'ROYAL SON',\n",
       " 'Elligator',\n",
       " 'VILLAIN',\n",
       " 'SUNBEE',\n",
       " 'kingsunglasses',\n",
       " 'PHENOMENAL',\n",
       " 'ROYAL SON',\n",
       " 'PHENOMENAL',\n",
       " 'kingsunglasses',\n",
       " 'Fastrack',\n",
       " 'AISLIN',\n",
       " 'PIRASO',\n",
       " 'DEIXELS',\n",
       " 'PIRASO',\n",
       " 'VINCENT CHASE',\n",
       " 'Rich Club',\n",
       " 'Elligator',\n",
       " 'ROYAL SON',\n",
       " 'Sewell']"
      ]
     },
     "execution_count": 92,
     "metadata": {},
     "output_type": "execute_result"
    }
   ],
   "source": [
    "for i in driver.find_elements_by_xpath(\"//div[@class='_2WkVRV']\"):\n",
    "    brand_name.append(i.text)\n",
    "    \n",
    "brand_name"
   ]
  },
  {
   "cell_type": "code",
   "execution_count": 93,
   "id": "924a6718",
   "metadata": {},
   "outputs": [
    {
     "data": {
      "text/plain": [
       "['Polarized, UV Protection Round Sunglasses (52)',\n",
       " 'UV Protection Wayfarer Sunglasses (56)',\n",
       " 'UV Protection Round Sunglasses (54)',\n",
       " 'UV Protection Rectangular Sunglasses (Free Size)',\n",
       " 'UV Protection Aviator Sunglasses (54)',\n",
       " 'UV Protection Aviator Sunglasses (54)',\n",
       " 'UV Protection, Gradient Butterfly Sunglasses (60)',\n",
       " 'UV Protection Wayfarer Sunglasses (Free Size)',\n",
       " 'Mirrored, UV Protection Wayfarer Sunglasses (53)',\n",
       " 'UV Protection Round Sunglasses (54)',\n",
       " 'Gradient, UV Protection Round Sunglasses (Free Size)',\n",
       " 'UV Protection, Polarized, Mirrored Rectangular Sunglass...',\n",
       " 'UV Protection Aviator Sunglasses (55)',\n",
       " 'UV Protection, Gradient Rectangular Sunglasses (Free Si...',\n",
       " 'UV Protection, Gradient Butterfly Sunglasses (60)',\n",
       " 'UV Protection Retro Square Sunglasses (Free Size)',\n",
       " 'Mirrored Aviator Sunglasses (55)',\n",
       " 'UV Protection, Riding Glasses, Mirrored Wayfarer Sungla...',\n",
       " 'by Lenskart Polarized, UV Protection Aviator Sunglasses...',\n",
       " 'UV Protection, Polarized, Mirrored Round Sunglasses (Fr...',\n",
       " 'Mirrored, UV Protection, Riding Glasses, Others Round S...',\n",
       " 'UV Protection Rectangular Sunglasses (58)',\n",
       " 'by Lenskart UV Protection Aviator Sunglasses (Free Size...',\n",
       " 'UV Protection Round Sunglasses (Free Size)',\n",
       " 'UV Protection Retro Square Sunglasses (Free Size)',\n",
       " 'UV Protection Wayfarer Sunglasses (32)',\n",
       " 'by Lenskart Polarized, UV Protection Wayfarer Sunglasse...',\n",
       " 'UV Protection Aviator Sunglasses (54)',\n",
       " 'UV Protection, Polarized, Mirrored Rectangular Sunglass...',\n",
       " 'UV Protection, Mirrored Retro Square Sunglasses (53)',\n",
       " 'UV Protection, Gradient Cat-eye, Oval Sunglasses (61)',\n",
       " 'Mirrored, Riding Glasses, Others Sports Sunglasses (50)',\n",
       " 'UV Protection Aviator Sunglasses (58)',\n",
       " 'Polarized Round Sunglasses (48)',\n",
       " 'UV Protection, Gradient Over-sized Sunglasses (59)',\n",
       " 'UV Protection Sports Sunglasses (Free Size)',\n",
       " 'Gradient Aviator Sunglasses (55)',\n",
       " 'Polarized Round Sunglasses (48)',\n",
       " 'by Lenskart UV Protection Aviator Sunglasses (Free Size...',\n",
       " 'Polarized Round Sunglasses (48)',\n",
       " 'UV Protection Sports Sunglasses (Free Size)',\n",
       " 'UV Protection, Gradient Retro Square Sunglasses (Free S...',\n",
       " 'by Lenskart Polarized, UV Protection Aviator Sunglasses...',\n",
       " 'Mirrored, UV Protection Wayfarer Sunglasses (Free Size)',\n",
       " 'UV Protection, Riding Glasses, Others Aviator, Wayfarer...',\n",
       " 'UV Protection, Polarized Aviator Sunglasses (32)',\n",
       " 'UV Protection Wayfarer Sunglasses (61)',\n",
       " 'UV Protection Butterfly Sunglasses (65)',\n",
       " 'Riding Glasses, Night Vision Wrap-around Sunglasses (Fr...',\n",
       " 'Mirrored Aviator Sunglasses (55)',\n",
       " 'UV Protection, Gradient Oval Sunglasses (58)',\n",
       " 'UV Protection, Polarized, Mirrored Wayfarer Sunglasses ...',\n",
       " 'UV Protection, Gradient Round Sunglasses (Free Size)',\n",
       " 'UV Protection, Gradient Butterfly Sunglasses (57)',\n",
       " 'Polarized, UV Protection Aviator Sunglasses (58)',\n",
       " 'UV Protection Aviator Sunglasses (Free Size)',\n",
       " 'UV Protection Clubmaster Sunglasses (Free Size)',\n",
       " 'UV Protection Round Sunglasses (50)',\n",
       " 'UV Protection Over-sized Sunglasses (60)',\n",
       " 'UV Protection Rectangular Sunglasses (Free Size)',\n",
       " 'UV Protection Round Sunglasses (50)',\n",
       " 'UV Protection Round Sunglasses (55)',\n",
       " 'Others Wayfarer Sunglasses (Free Size)',\n",
       " 'UV Protection, Polarized Wayfarer Sunglasses (Free Size...',\n",
       " 'UV Protection, Mirrored Round Sunglasses (54)',\n",
       " 'UV Protection, Mirrored Round Sunglasses (Free Size)',\n",
       " 'UV Protection, Gradient Over-sized Sunglasses (59)',\n",
       " 'UV Protection, Mirrored Clubmaster Sunglasses (Free Siz...',\n",
       " 'Mirrored, UV Protection Aviator Sunglasses (56)',\n",
       " 'UV Protection Aviator Sunglasses (Free Size)',\n",
       " 'Polarized, UV Protection, Gradient Round Sunglasses (56...',\n",
       " 'UV Protection Aviator Sunglasses (54)',\n",
       " 'UV Protection Aviator, Wayfarer Sunglasses (Free Size)',\n",
       " 'UV Protection Aviator Sunglasses (58)',\n",
       " 'by Lenskart UV Protection Wayfarer Sunglasses (51)',\n",
       " 'UV Protection Round Sunglasses (48)',\n",
       " 'UV Protection, Riding Glasses Rectangular, Retro Square...',\n",
       " 'Mirrored Aviator Sunglasses (58)',\n",
       " 'UV Protection Aviator Sunglasses (Free Size)']"
      ]
     },
     "execution_count": 93,
     "metadata": {},
     "output_type": "execute_result"
    }
   ],
   "source": [
    "for i in driver.find_elements_by_xpath(\"//a[@class='IRpwTa']\"):\n",
    "    prod_des.append(i.text)\n",
    "    \n",
    "prod_des"
   ]
  },
  {
   "cell_type": "code",
   "execution_count": 94,
   "id": "a4c0c676",
   "metadata": {},
   "outputs": [
    {
     "data": {
      "text/plain": [
       "['₹238',\n",
       " '₹759',\n",
       " '₹188',\n",
       " '₹248',\n",
       " '₹259',\n",
       " '₹200',\n",
       " '₹187',\n",
       " '₹664',\n",
       " '₹699',\n",
       " '₹274',\n",
       " '₹189',\n",
       " '₹426',\n",
       " '₹170',\n",
       " '₹179',\n",
       " '₹383',\n",
       " '₹664',\n",
       " '₹474',\n",
       " '₹359',\n",
       " '₹187',\n",
       " '₹999',\n",
       " '₹271',\n",
       " '₹259',\n",
       " '₹449',\n",
       " '₹999',\n",
       " '₹426',\n",
       " '₹319',\n",
       " '₹187',\n",
       " '₹1,415',\n",
       " '₹187',\n",
       " '₹181',\n",
       " '₹299',\n",
       " '₹446',\n",
       " '₹194',\n",
       " '₹299',\n",
       " '₹175',\n",
       " '₹664',\n",
       " '₹287',\n",
       " '₹196',\n",
       " '₹163',\n",
       " '₹999',\n",
       " '₹163',\n",
       " '₹287',\n",
       " '₹349',\n",
       " '₹999',\n",
       " '₹259',\n",
       " '₹229',\n",
       " '₹164',\n",
       " '₹698',\n",
       " '₹359',\n",
       " '₹276',\n",
       " '₹359',\n",
       " '₹446',\n",
       " '₹258',\n",
       " '₹360',\n",
       " '₹664',\n",
       " '₹711',\n",
       " '₹261',\n",
       " '₹287',\n",
       " '₹383',\n",
       " '₹664',\n",
       " '₹192',\n",
       " '₹359',\n",
       " '₹239',\n",
       " '₹522',\n",
       " '₹276',\n",
       " '₹211',\n",
       " '₹209',\n",
       " '₹664',\n",
       " '₹287',\n",
       " '₹211',\n",
       " '₹649',\n",
       " '₹1,051',\n",
       " '₹187',\n",
       " '₹202',\n",
       " '₹299',\n",
       " '₹999',\n",
       " '₹284',\n",
       " '₹318',\n",
       " '₹359',\n",
       " '₹320']"
      ]
     },
     "execution_count": 94,
     "metadata": {},
     "output_type": "execute_result"
    }
   ],
   "source": [
    "for i in driver.find_elements_by_xpath(\"//div[@class='_30jeq3']\"):\n",
    "    price.append(i.text)\n",
    "    \n",
    "price"
   ]
  },
  {
   "cell_type": "code",
   "execution_count": 95,
   "id": "6304dd22",
   "metadata": {},
   "outputs": [],
   "source": [
    "fk_next = driver.find_element_by_xpath(\"//a[@class='_1LKTO3']\")\n",
    "fk_next.click()"
   ]
  },
  {
   "cell_type": "code",
   "execution_count": 96,
   "id": "05db69a4",
   "metadata": {},
   "outputs": [],
   "source": [
    "for i in driver.find_elements_by_xpath(\"//div[@class='_30jeq3']\"):\n",
    "    price.append(i.text)\n",
    "    \n",
    "for i in driver.find_elements_by_xpath(\"//a[@class='IRpwTa']\"):\n",
    "    prod_des.append(i.text)\n",
    "    \n",
    "for i in driver.find_elements_by_xpath(\"//div[@class='_2WkVRV']\"):\n",
    "    brand_name.append(i.text)"
   ]
  },
  {
   "cell_type": "code",
   "execution_count": 97,
   "id": "7647ba38",
   "metadata": {},
   "outputs": [
    {
     "data": {
      "text/plain": [
       "['₹238',\n",
       " '₹759',\n",
       " '₹188',\n",
       " '₹248',\n",
       " '₹259',\n",
       " '₹200',\n",
       " '₹187',\n",
       " '₹664',\n",
       " '₹699',\n",
       " '₹274',\n",
       " '₹189',\n",
       " '₹426',\n",
       " '₹170',\n",
       " '₹179',\n",
       " '₹383',\n",
       " '₹664',\n",
       " '₹474',\n",
       " '₹359',\n",
       " '₹187',\n",
       " '₹999',\n",
       " '₹271',\n",
       " '₹259',\n",
       " '₹449',\n",
       " '₹999',\n",
       " '₹426',\n",
       " '₹319',\n",
       " '₹187',\n",
       " '₹1,415',\n",
       " '₹187',\n",
       " '₹181',\n",
       " '₹299',\n",
       " '₹446',\n",
       " '₹194',\n",
       " '₹299',\n",
       " '₹175',\n",
       " '₹664',\n",
       " '₹287',\n",
       " '₹196',\n",
       " '₹163',\n",
       " '₹999',\n",
       " '₹163',\n",
       " '₹287',\n",
       " '₹349',\n",
       " '₹999',\n",
       " '₹259',\n",
       " '₹229',\n",
       " '₹164',\n",
       " '₹698',\n",
       " '₹359',\n",
       " '₹276',\n",
       " '₹359',\n",
       " '₹446',\n",
       " '₹258',\n",
       " '₹360',\n",
       " '₹664',\n",
       " '₹711',\n",
       " '₹261',\n",
       " '₹287',\n",
       " '₹383',\n",
       " '₹664',\n",
       " '₹192',\n",
       " '₹359',\n",
       " '₹239',\n",
       " '₹522',\n",
       " '₹276',\n",
       " '₹211',\n",
       " '₹209',\n",
       " '₹664',\n",
       " '₹287',\n",
       " '₹211',\n",
       " '₹649',\n",
       " '₹1,051',\n",
       " '₹187',\n",
       " '₹202',\n",
       " '₹299',\n",
       " '₹999',\n",
       " '₹284',\n",
       " '₹318',\n",
       " '₹359',\n",
       " '₹320',\n",
       " '₹238',\n",
       " '₹1,415',\n",
       " '₹188',\n",
       " '₹248',\n",
       " '₹200',\n",
       " '₹259',\n",
       " '₹699',\n",
       " '₹759',\n",
       " '₹187',\n",
       " '₹274',\n",
       " '₹189',\n",
       " '₹664',\n",
       " '₹170',\n",
       " '₹179',\n",
       " '₹383',\n",
       " '₹426',\n",
       " '₹474',\n",
       " '₹187',\n",
       " '₹359',\n",
       " '₹664']"
      ]
     },
     "execution_count": 97,
     "metadata": {},
     "output_type": "execute_result"
    }
   ],
   "source": [
    "price = price[0:100]\n",
    "price"
   ]
  },
  {
   "cell_type": "code",
   "execution_count": 99,
   "id": "c03c9561",
   "metadata": {},
   "outputs": [],
   "source": [
    "brand_name = brand_name[0:100]\n",
    "prod_des = prod_des[0:100]"
   ]
  },
  {
   "cell_type": "code",
   "execution_count": 100,
   "id": "07298a02",
   "metadata": {},
   "outputs": [
    {
     "data": {
      "text/html": [
       "<div>\n",
       "<style scoped>\n",
       "    .dataframe tbody tr th:only-of-type {\n",
       "        vertical-align: middle;\n",
       "    }\n",
       "\n",
       "    .dataframe tbody tr th {\n",
       "        vertical-align: top;\n",
       "    }\n",
       "\n",
       "    .dataframe thead th {\n",
       "        text-align: right;\n",
       "    }\n",
       "</style>\n",
       "<table border=\"1\" class=\"dataframe\">\n",
       "  <thead>\n",
       "    <tr style=\"text-align: right;\">\n",
       "      <th></th>\n",
       "      <th>Brand</th>\n",
       "      <th>Product Description</th>\n",
       "      <th>Price</th>\n",
       "    </tr>\n",
       "  </thead>\n",
       "  <tbody>\n",
       "    <tr>\n",
       "      <th>0</th>\n",
       "      <td>LIZA ANGEL</td>\n",
       "      <td>Polarized, UV Protection Round Sunglasses (52)</td>\n",
       "      <td>₹238</td>\n",
       "    </tr>\n",
       "    <tr>\n",
       "      <th>1</th>\n",
       "      <td>ROYAL SON</td>\n",
       "      <td>UV Protection Wayfarer Sunglasses (56)</td>\n",
       "      <td>₹759</td>\n",
       "    </tr>\n",
       "    <tr>\n",
       "      <th>2</th>\n",
       "      <td>SRPM</td>\n",
       "      <td>UV Protection Round Sunglasses (54)</td>\n",
       "      <td>₹188</td>\n",
       "    </tr>\n",
       "    <tr>\n",
       "      <th>3</th>\n",
       "      <td>Elligator</td>\n",
       "      <td>UV Protection Rectangular Sunglasses (Free Size)</td>\n",
       "      <td>₹248</td>\n",
       "    </tr>\n",
       "    <tr>\n",
       "      <th>4</th>\n",
       "      <td>New Specs</td>\n",
       "      <td>UV Protection Aviator Sunglasses (54)</td>\n",
       "      <td>₹259</td>\n",
       "    </tr>\n",
       "    <tr>\n",
       "      <th>...</th>\n",
       "      <td>...</td>\n",
       "      <td>...</td>\n",
       "      <td>...</td>\n",
       "    </tr>\n",
       "    <tr>\n",
       "      <th>95</th>\n",
       "      <td>ROZZETTA CRAFT</td>\n",
       "      <td>UV Protection, Riding Glasses, Mirrored Wayfar...</td>\n",
       "      <td>₹426</td>\n",
       "    </tr>\n",
       "    <tr>\n",
       "      <th>96</th>\n",
       "      <td>ROZZETTA CRAFT</td>\n",
       "      <td>Mirrored Aviator Sunglasses (55)</td>\n",
       "      <td>₹474</td>\n",
       "    </tr>\n",
       "    <tr>\n",
       "      <th>97</th>\n",
       "      <td>kingsunglasses</td>\n",
       "      <td>UV Protection, Gradient Butterfly Sunglasses (60)</td>\n",
       "      <td>₹187</td>\n",
       "    </tr>\n",
       "    <tr>\n",
       "      <th>98</th>\n",
       "      <td>ROYAL SON</td>\n",
       "      <td>UV Protection, Polarized, Mirrored Round Sungl...</td>\n",
       "      <td>₹359</td>\n",
       "    </tr>\n",
       "    <tr>\n",
       "      <th>99</th>\n",
       "      <td>ROYAL SON</td>\n",
       "      <td>UV Protection Retro Square Sunglasses (Free Size)</td>\n",
       "      <td>₹664</td>\n",
       "    </tr>\n",
       "  </tbody>\n",
       "</table>\n",
       "<p>100 rows × 3 columns</p>\n",
       "</div>"
      ],
      "text/plain": [
       "             Brand                                Product Description Price\n",
       "0       LIZA ANGEL     Polarized, UV Protection Round Sunglasses (52)  ₹238\n",
       "1        ROYAL SON             UV Protection Wayfarer Sunglasses (56)  ₹759\n",
       "2             SRPM                UV Protection Round Sunglasses (54)  ₹188\n",
       "3        Elligator   UV Protection Rectangular Sunglasses (Free Size)  ₹248\n",
       "4        New Specs              UV Protection Aviator Sunglasses (54)  ₹259\n",
       "..             ...                                                ...   ...\n",
       "95  ROZZETTA CRAFT  UV Protection, Riding Glasses, Mirrored Wayfar...  ₹426\n",
       "96  ROZZETTA CRAFT                   Mirrored Aviator Sunglasses (55)  ₹474\n",
       "97  kingsunglasses  UV Protection, Gradient Butterfly Sunglasses (60)  ₹187\n",
       "98       ROYAL SON  UV Protection, Polarized, Mirrored Round Sungl...  ₹359\n",
       "99       ROYAL SON  UV Protection Retro Square Sunglasses (Free Size)  ₹664\n",
       "\n",
       "[100 rows x 3 columns]"
      ]
     },
     "execution_count": 100,
     "metadata": {},
     "output_type": "execute_result"
    }
   ],
   "source": [
    "sunglasses = pd.DataFrame({'Brand':brand_name, 'Product Description':prod_des, 'Price': price})\n",
    "sunglasses"
   ]
  },
  {
   "cell_type": "markdown",
   "id": "5005c3a9",
   "metadata": {},
   "source": [
    "# Q5: Scrape 100 reviews data from flipkart.com for iphone11 phone. You have to go the link:\n",
    "# https://www.flipkart.com/apple-iphone-11-black-64-gb-includes- earpods-power- adapter/p/itm0f37c2240b217?pid=MOBFKCTSVZAXUHGR&lid=LSTMOBFKC TSVZAXUHGREPBFGI&marketplace."
   ]
  },
  {
   "cell_type": "code",
   "execution_count": 102,
   "id": "9a181195",
   "metadata": {},
   "outputs": [],
   "source": [
    "driver.get('https://www.flipkart.com/apple-iphone-11-black-64-gb-includes- earpods-power- adapter/p/itm0f37c2240b217?pid=MOBFKCTSVZAXUHGR&lid=LSTMOBFKC TSVZAXUHGREPBFGI&marketplace')"
   ]
  },
  {
   "cell_type": "code",
   "execution_count": 103,
   "id": "5e21371e",
   "metadata": {},
   "outputs": [],
   "source": [
    "all_rev = driver.find_element_by_xpath(\"//div[@class='_3UAT2v _16PBlm']\")\n",
    "all_rev.click()"
   ]
  },
  {
   "cell_type": "code",
   "execution_count": 104,
   "id": "ec78716c",
   "metadata": {},
   "outputs": [],
   "source": [
    "rating = []\n",
    "rev_sum = []\n",
    "rev_full = []"
   ]
  },
  {
   "cell_type": "code",
   "execution_count": 105,
   "id": "1623ce8d",
   "metadata": {},
   "outputs": [],
   "source": [
    "page = 1\n",
    "\n",
    "while(page<12) :\n",
    "    URL = \"https://www.flipkart.com/apple-iphone-11-black-64-gb-includes-earpods-power-adapter/product-reviews/itm0f37c2240b217?pid=MOBFKCTSVZAXUHGR&lid=LSTMOBFKCTSVZAXUHGREPBFGI&marketplace=FLIPKART&page=\" + str(page)\n",
    "    driver.get(URL)\n",
    "    \n",
    "    for i in driver.find_elements_by_xpath(\"//div[@class='_3LWZlK _1BLPMq']\"):\n",
    "        rating.append(i.text)\n",
    "        \n",
    "    for i in driver.find_elements_by_xpath(\"//p[@class='_2-N8zT']\"):\n",
    "        rev_sum.append(i.text)\n",
    "        \n",
    "    for i in driver.find_elements_by_xpath(\"//div[@class='t-ZTKy']\"):\n",
    "        rev_full.append(i.text.replace('\\n',''))\n",
    "    \n",
    "    page+=1\n",
    "    "
   ]
  },
  {
   "cell_type": "code",
   "execution_count": 106,
   "id": "61e6d84c",
   "metadata": {},
   "outputs": [],
   "source": [
    "rating = rating[0:100]"
   ]
  },
  {
   "cell_type": "code",
   "execution_count": 107,
   "id": "a5181f4d",
   "metadata": {},
   "outputs": [],
   "source": [
    "rev_sum = rev_sum[0:100]"
   ]
  },
  {
   "cell_type": "code",
   "execution_count": 108,
   "id": "a3ae45e0",
   "metadata": {},
   "outputs": [],
   "source": [
    "rev_full = rev_full[0:100] "
   ]
  },
  {
   "cell_type": "code",
   "execution_count": 109,
   "id": "4134633d",
   "metadata": {},
   "outputs": [],
   "source": [
    "review_df = pd.DataFrame({\"Rating\":rating, \"Review Summary\": rev_sum, \"Full Review\": rev_full})"
   ]
  },
  {
   "cell_type": "code",
   "execution_count": 110,
   "id": "caf2f1cf",
   "metadata": {},
   "outputs": [
    {
     "data": {
      "text/html": [
       "<div>\n",
       "<style scoped>\n",
       "    .dataframe tbody tr th:only-of-type {\n",
       "        vertical-align: middle;\n",
       "    }\n",
       "\n",
       "    .dataframe tbody tr th {\n",
       "        vertical-align: top;\n",
       "    }\n",
       "\n",
       "    .dataframe thead th {\n",
       "        text-align: right;\n",
       "    }\n",
       "</style>\n",
       "<table border=\"1\" class=\"dataframe\">\n",
       "  <thead>\n",
       "    <tr style=\"text-align: right;\">\n",
       "      <th></th>\n",
       "      <th>Rating</th>\n",
       "      <th>Review Summary</th>\n",
       "      <th>Full Review</th>\n",
       "    </tr>\n",
       "  </thead>\n",
       "  <tbody>\n",
       "    <tr>\n",
       "      <th>0</th>\n",
       "      <td>5</td>\n",
       "      <td>Brilliant</td>\n",
       "      <td>The Best Phone for the MoneyThe iPhone 11 offe...</td>\n",
       "    </tr>\n",
       "    <tr>\n",
       "      <th>1</th>\n",
       "      <td>5</td>\n",
       "      <td>Simply awesome</td>\n",
       "      <td>Really satisfied with the Product I received.....</td>\n",
       "    </tr>\n",
       "    <tr>\n",
       "      <th>2</th>\n",
       "      <td>5</td>\n",
       "      <td>Best in the market!</td>\n",
       "      <td>Great iPhone very snappy experience as apple k...</td>\n",
       "    </tr>\n",
       "    <tr>\n",
       "      <th>3</th>\n",
       "      <td>5</td>\n",
       "      <td>Perfect product!</td>\n",
       "      <td>Amazing phone with great cameras and better ba...</td>\n",
       "    </tr>\n",
       "    <tr>\n",
       "      <th>4</th>\n",
       "      <td>5</td>\n",
       "      <td>Worth every penny</td>\n",
       "      <td>Previously I was using one plus 3t it was a gr...</td>\n",
       "    </tr>\n",
       "    <tr>\n",
       "      <th>...</th>\n",
       "      <td>...</td>\n",
       "      <td>...</td>\n",
       "      <td>...</td>\n",
       "    </tr>\n",
       "    <tr>\n",
       "      <th>95</th>\n",
       "      <td>5</td>\n",
       "      <td>Terrific purchase</td>\n",
       "      <td>I use a Note10+ and have been using both iOS a...</td>\n",
       "    </tr>\n",
       "    <tr>\n",
       "      <th>96</th>\n",
       "      <td>3</td>\n",
       "      <td>Awesome</td>\n",
       "      <td>The phone is completely goodAs far as camera A...</td>\n",
       "    </tr>\n",
       "    <tr>\n",
       "      <th>97</th>\n",
       "      <td>5</td>\n",
       "      <td>Decent product</td>\n",
       "      <td>Everything u ll like it when u use this iPhone...</td>\n",
       "    </tr>\n",
       "    <tr>\n",
       "      <th>98</th>\n",
       "      <td>5</td>\n",
       "      <td>Awesome</td>\n",
       "      <td>Can’t beat the software and hardware integrati...</td>\n",
       "    </tr>\n",
       "    <tr>\n",
       "      <th>99</th>\n",
       "      <td>5</td>\n",
       "      <td>Does the job</td>\n",
       "      <td>phone is good but in display is 720p lcd in th...</td>\n",
       "    </tr>\n",
       "  </tbody>\n",
       "</table>\n",
       "<p>100 rows × 3 columns</p>\n",
       "</div>"
      ],
      "text/plain": [
       "   Rating       Review Summary  \\\n",
       "0       5            Brilliant   \n",
       "1       5       Simply awesome   \n",
       "2       5  Best in the market!   \n",
       "3       5     Perfect product!   \n",
       "4       5    Worth every penny   \n",
       "..    ...                  ...   \n",
       "95      5    Terrific purchase   \n",
       "96      3              Awesome   \n",
       "97      5       Decent product   \n",
       "98      5              Awesome   \n",
       "99      5         Does the job   \n",
       "\n",
       "                                          Full Review  \n",
       "0   The Best Phone for the MoneyThe iPhone 11 offe...  \n",
       "1   Really satisfied with the Product I received.....  \n",
       "2   Great iPhone very snappy experience as apple k...  \n",
       "3   Amazing phone with great cameras and better ba...  \n",
       "4   Previously I was using one plus 3t it was a gr...  \n",
       "..                                                ...  \n",
       "95  I use a Note10+ and have been using both iOS a...  \n",
       "96  The phone is completely goodAs far as camera A...  \n",
       "97  Everything u ll like it when u use this iPhone...  \n",
       "98  Can’t beat the software and hardware integrati...  \n",
       "99  phone is good but in display is 720p lcd in th...  \n",
       "\n",
       "[100 rows x 3 columns]"
      ]
     },
     "execution_count": 110,
     "metadata": {},
     "output_type": "execute_result"
    }
   ],
   "source": [
    "review_df"
   ]
  },
  {
   "cell_type": "markdown",
   "id": "7b825ecf",
   "metadata": {},
   "source": [
    "# Q6: Scrape data for first 100 sneakers you find when you visit flipkart.com andsearch for “sneakers” in the search field.\n",
    "# You have to scrape 4 attributes of each sneaker:\n",
    "# 1. Brand\n",
    "# 2. Product Description\n",
    "# 3. Price\n",
    "# 4. Discount %"
   ]
  },
  {
   "cell_type": "code",
   "execution_count": 111,
   "id": "429b057c",
   "metadata": {},
   "outputs": [],
   "source": [
    "driver.get(\"https://www.flipkart.com/\")"
   ]
  },
  {
   "cell_type": "code",
   "execution_count": 112,
   "id": "c73073eb",
   "metadata": {},
   "outputs": [],
   "source": [
    "search_bar = driver.find_element_by_xpath(\"//input[@class = '_3704LK']\")\n",
    "search_bar.send_keys(\"sneakers\")"
   ]
  },
  {
   "cell_type": "code",
   "execution_count": 113,
   "id": "167751e7",
   "metadata": {},
   "outputs": [],
   "source": [
    "search_btn = driver.find_element_by_xpath(\"//button[@class='L0Z3Pu']\")\n",
    "search_btn.click()"
   ]
  },
  {
   "cell_type": "code",
   "execution_count": 114,
   "id": "1177e586",
   "metadata": {},
   "outputs": [],
   "source": [
    "brand = []\n",
    "prod_desc = []\n",
    "price = []\n",
    "disc = []"
   ]
  },
  {
   "cell_type": "code",
   "execution_count": 115,
   "id": "8bc484dd",
   "metadata": {},
   "outputs": [],
   "source": [
    "nos = 1\n",
    "\n",
    "page = 1\n",
    "\n",
    "while (nos<101):\n",
    "    url = \"https://www.flipkart.com/search?q=sneakers&otracker=search&otracker1=search&marketplace=FLIPKART&as-show=on&as=off&page=\" + str(page)\n",
    "    driver.get(url)\n",
    "    \n",
    "    for i in driver.find_elements_by_xpath(\"//div[@class='_2WkVRV']\"):\n",
    "        brand.append(i.text)\n",
    "    \n",
    "    for i in driver.find_elements_by_xpath(\"//a[@class='IRpwTa _2-ICcC']\"):\n",
    "        prod_desc.append(i.text)\n",
    "        \n",
    "    for i in driver.find_elements_by_xpath(\"//a[@class='IRpwTa']\"):\n",
    "        prod_desc.append(i.text)\n",
    "        \n",
    "    for i in driver.find_elements_by_xpath(\"//div[@class='_30jeq3']\"):\n",
    "        price.append(i.text)\n",
    "        \n",
    "    for i in driver.find_elements_by_xpath(\"//div[@class='_3Ay6Sb']\"):\n",
    "        disc.append(i.text)\n",
    "        \n",
    "    page+=1\n",
    "    nos = len(brand) "
   ]
  },
  {
   "cell_type": "code",
   "execution_count": 116,
   "id": "1dbc7d96",
   "metadata": {},
   "outputs": [
    {
     "name": "stdout",
     "output_type": "stream",
     "text": [
      "120\n",
      "120\n",
      "120\n",
      "120\n"
     ]
    }
   ],
   "source": [
    "print(len(brand))\n",
    "print(len(prod_desc))\n",
    "print(len(price))\n",
    "print(len(disc))"
   ]
  },
  {
   "cell_type": "code",
   "execution_count": 117,
   "id": "e91c5fcc",
   "metadata": {},
   "outputs": [],
   "source": [
    "brand = brand[0:100]\n",
    "prod_desc = prod_desc[0:100]\n",
    "price = price[0:100]\n",
    "disc = disc[0:100]"
   ]
  },
  {
   "cell_type": "code",
   "execution_count": 118,
   "id": "c96fc387",
   "metadata": {},
   "outputs": [
    {
     "data": {
      "text/html": [
       "<div>\n",
       "<style scoped>\n",
       "    .dataframe tbody tr th:only-of-type {\n",
       "        vertical-align: middle;\n",
       "    }\n",
       "\n",
       "    .dataframe tbody tr th {\n",
       "        vertical-align: top;\n",
       "    }\n",
       "\n",
       "    .dataframe thead th {\n",
       "        text-align: right;\n",
       "    }\n",
       "</style>\n",
       "<table border=\"1\" class=\"dataframe\">\n",
       "  <thead>\n",
       "    <tr style=\"text-align: right;\">\n",
       "      <th></th>\n",
       "      <th>Brand</th>\n",
       "      <th>Product Description</th>\n",
       "      <th>Price</th>\n",
       "      <th>Discount</th>\n",
       "    </tr>\n",
       "  </thead>\n",
       "  <tbody>\n",
       "    <tr>\n",
       "      <th>0</th>\n",
       "      <td>PUMA</td>\n",
       "      <td>Sneakers Sneakers For Men</td>\n",
       "      <td>₹1,749</td>\n",
       "      <td>50% off</td>\n",
       "    </tr>\n",
       "    <tr>\n",
       "      <th>1</th>\n",
       "      <td>LEE COOPER</td>\n",
       "      <td>Sneakers For Men</td>\n",
       "      <td>₹1,374</td>\n",
       "      <td>45% off</td>\n",
       "    </tr>\n",
       "    <tr>\n",
       "      <th>2</th>\n",
       "      <td>URBANBOX</td>\n",
       "      <td>Sneakers For Men</td>\n",
       "      <td>₹247</td>\n",
       "      <td>75% off</td>\n",
       "    </tr>\n",
       "    <tr>\n",
       "      <th>3</th>\n",
       "      <td>BRUTON</td>\n",
       "      <td>Sneakers For Men</td>\n",
       "      <td>₹299</td>\n",
       "      <td>76% off</td>\n",
       "    </tr>\n",
       "    <tr>\n",
       "      <th>4</th>\n",
       "      <td>BIRDE</td>\n",
       "      <td>STYLISH-WHITE-9 Sneakers For Men</td>\n",
       "      <td>₹299</td>\n",
       "      <td>40% off</td>\n",
       "    </tr>\n",
       "    <tr>\n",
       "      <th>...</th>\n",
       "      <td>...</td>\n",
       "      <td>...</td>\n",
       "      <td>...</td>\n",
       "      <td>...</td>\n",
       "    </tr>\n",
       "    <tr>\n",
       "      <th>95</th>\n",
       "      <td>LEE COOPER</td>\n",
       "      <td>Sports Shoes Sneakers For Men</td>\n",
       "      <td>₹1,374</td>\n",
       "      <td>45% off</td>\n",
       "    </tr>\n",
       "    <tr>\n",
       "      <th>96</th>\n",
       "      <td>BIRDE</td>\n",
       "      <td>Sneakers For Men</td>\n",
       "      <td>₹399</td>\n",
       "      <td>60% off</td>\n",
       "    </tr>\n",
       "    <tr>\n",
       "      <th>97</th>\n",
       "      <td>Xtoon</td>\n",
       "      <td>Sneakers For Men</td>\n",
       "      <td>₹499</td>\n",
       "      <td>66% off</td>\n",
       "    </tr>\n",
       "    <tr>\n",
       "      <th>98</th>\n",
       "      <td>Bond Street By Red Tape</td>\n",
       "      <td>Sneakers For Men</td>\n",
       "      <td>₹897</td>\n",
       "      <td>76% off</td>\n",
       "    </tr>\n",
       "    <tr>\n",
       "      <th>99</th>\n",
       "      <td>PUMA</td>\n",
       "      <td>Sneakers For Men</td>\n",
       "      <td>₹3,199</td>\n",
       "      <td>60% off</td>\n",
       "    </tr>\n",
       "  </tbody>\n",
       "</table>\n",
       "<p>100 rows × 4 columns</p>\n",
       "</div>"
      ],
      "text/plain": [
       "                      Brand               Product Description   Price Discount\n",
       "0                      PUMA         Sneakers Sneakers For Men  ₹1,749  50% off\n",
       "1                LEE COOPER                  Sneakers For Men  ₹1,374  45% off\n",
       "2                  URBANBOX                  Sneakers For Men    ₹247  75% off\n",
       "3                    BRUTON                  Sneakers For Men    ₹299  76% off\n",
       "4                     BIRDE  STYLISH-WHITE-9 Sneakers For Men    ₹299  40% off\n",
       "..                      ...                               ...     ...      ...\n",
       "95               LEE COOPER     Sports Shoes Sneakers For Men  ₹1,374  45% off\n",
       "96                    BIRDE                  Sneakers For Men    ₹399  60% off\n",
       "97                    Xtoon                  Sneakers For Men    ₹499  66% off\n",
       "98  Bond Street By Red Tape                  Sneakers For Men    ₹897  76% off\n",
       "99                     PUMA                  Sneakers For Men  ₹3,199  60% off\n",
       "\n",
       "[100 rows x 4 columns]"
      ]
     },
     "execution_count": 118,
     "metadata": {},
     "output_type": "execute_result"
    }
   ],
   "source": [
    "sneakers_df = pd.DataFrame({\"Brand\":brand, \"Product Description\":prod_desc, \"Price\":price, \"Discount\":disc})\n",
    "sneakers_df"
   ]
  },
  {
   "cell_type": "markdown",
   "id": "c78f19c4",
   "metadata": {},
   "source": [
    "# Q7: Go to the link - https://www.myntra.com/shoes\n",
    "# Set Price filter to “Rs. 6649 to Rs. 13099” , Color filter to “Black”, as shown inthe below image.\n",
    "# And then scrape First 100 shoes data you get. The data should include “Brand” ofthe shoes , Short Shoe description, price of the shoe as shown in the below image."
   ]
  },
  {
   "cell_type": "code",
   "execution_count": 119,
   "id": "451bb94e",
   "metadata": {},
   "outputs": [],
   "source": [
    "driver.get(\"https://www.myntra.com/shoes\")"
   ]
  },
  {
   "cell_type": "code",
   "execution_count": 120,
   "id": "31130743",
   "metadata": {},
   "outputs": [],
   "source": [
    "price_filter = driver.find_element_by_xpath(\"/html/body/div[2]/div/div[1]/main/div[3]/div[1]/section/div/div[5]/ul/li[2]/label/div\")\n",
    "price_filter.click()"
   ]
  },
  {
   "cell_type": "code",
   "execution_count": 121,
   "id": "72e9ff29",
   "metadata": {},
   "outputs": [],
   "source": [
    "colour_filter = driver.find_element_by_xpath(\"/html/body/div[2]/div/div[1]/main/div[3]/div[1]/section/div/div[6]/ul/li[1]/label/div\")\n",
    "colour_filter.click()"
   ]
  },
  {
   "cell_type": "code",
   "execution_count": 122,
   "id": "ad79d5bb",
   "metadata": {},
   "outputs": [],
   "source": [
    "brand = []\n",
    "desc = []\n",
    "price = []"
   ]
  },
  {
   "cell_type": "code",
   "execution_count": 123,
   "id": "91ece138",
   "metadata": {},
   "outputs": [],
   "source": [
    "page = 1\n",
    "nos = 1\n",
    "\n",
    "while(nos<101):\n",
    "    url = \"https://www.myntra.com/shoes?f=Color%3ABlack_36454f&rf=Price%3A6099.0_11999.0_6099.0%20TO%2011999.0&p=\" + str(page)\n",
    "    driver.get(url)\n",
    "    \n",
    "    for i in driver.find_elements_by_xpath(\"//h3[@class='product-brand']\"):\n",
    "        brand.append(i.text)\n",
    "        \n",
    "    for i in driver.find_elements_by_xpath(\"//h4[@class='product-product']\"):\n",
    "        desc.append(i.text)\n",
    "        \n",
    "    for i in driver.find_elements_by_xpath(\"//div[@class='product-price']/span[1]\"):\n",
    "        price.append(i.text)\n",
    "        \n",
    "    page+=1\n",
    "    nos = len(brand)"
   ]
  },
  {
   "cell_type": "code",
   "execution_count": 124,
   "id": "41dcb638",
   "metadata": {},
   "outputs": [],
   "source": [
    "brand = brand[0:100]\n",
    "desc = desc[0:100]\n",
    "price = price[0:100]"
   ]
  },
  {
   "cell_type": "code",
   "execution_count": 125,
   "id": "11b8158d",
   "metadata": {},
   "outputs": [
    {
     "data": {
      "text/html": [
       "<div>\n",
       "<style scoped>\n",
       "    .dataframe tbody tr th:only-of-type {\n",
       "        vertical-align: middle;\n",
       "    }\n",
       "\n",
       "    .dataframe tbody tr th {\n",
       "        vertical-align: top;\n",
       "    }\n",
       "\n",
       "    .dataframe thead th {\n",
       "        text-align: right;\n",
       "    }\n",
       "</style>\n",
       "<table border=\"1\" class=\"dataframe\">\n",
       "  <thead>\n",
       "    <tr style=\"text-align: right;\">\n",
       "      <th></th>\n",
       "      <th>Brand</th>\n",
       "      <th>Product Description</th>\n",
       "      <th>Price</th>\n",
       "    </tr>\n",
       "  </thead>\n",
       "  <tbody>\n",
       "    <tr>\n",
       "      <th>0</th>\n",
       "      <td>ASICS</td>\n",
       "      <td>Men GEL-KAYANO 27 Shoes</td>\n",
       "      <td>Rs. 10499Rs. 14999</td>\n",
       "    </tr>\n",
       "    <tr>\n",
       "      <th>1</th>\n",
       "      <td>Puma</td>\n",
       "      <td>Men Deviate Nitro Running Shoe</td>\n",
       "      <td>Rs. 8249Rs. 14999</td>\n",
       "    </tr>\n",
       "    <tr>\n",
       "      <th>2</th>\n",
       "      <td>Puma</td>\n",
       "      <td>Men Running Shoes</td>\n",
       "      <td>Rs. 6499Rs. 12999</td>\n",
       "    </tr>\n",
       "    <tr>\n",
       "      <th>3</th>\n",
       "      <td>Nike</td>\n",
       "      <td>Men Waffle One SE Sneakers</td>\n",
       "      <td>Rs. 8295</td>\n",
       "    </tr>\n",
       "    <tr>\n",
       "      <th>4</th>\n",
       "      <td>Puma</td>\n",
       "      <td>Men Magnify Nitro Running</td>\n",
       "      <td>Rs. 7799Rs. 12999</td>\n",
       "    </tr>\n",
       "    <tr>\n",
       "      <th>...</th>\n",
       "      <td>...</td>\n",
       "      <td>...</td>\n",
       "      <td>...</td>\n",
       "    </tr>\n",
       "    <tr>\n",
       "      <th>95</th>\n",
       "      <td>DAVINCHI</td>\n",
       "      <td>Solid Slip On Shoes</td>\n",
       "      <td>Rs. 7990</td>\n",
       "    </tr>\n",
       "    <tr>\n",
       "      <th>96</th>\n",
       "      <td>DAVINCHI</td>\n",
       "      <td>Men Formal Leather Slip-Ons</td>\n",
       "      <td>Rs. 8990</td>\n",
       "    </tr>\n",
       "    <tr>\n",
       "      <th>97</th>\n",
       "      <td>Clarks</td>\n",
       "      <td>Men Leather Mid-Top Derbys</td>\n",
       "      <td>Rs. 8999</td>\n",
       "    </tr>\n",
       "    <tr>\n",
       "      <th>98</th>\n",
       "      <td>J.FONTINI</td>\n",
       "      <td>Men Textured Leather Formal Loafers</td>\n",
       "      <td>Rs. 8990</td>\n",
       "    </tr>\n",
       "    <tr>\n",
       "      <th>99</th>\n",
       "      <td>DAVINCHI</td>\n",
       "      <td>Men Solid Leather Formal Derbys</td>\n",
       "      <td>Rs. 8990</td>\n",
       "    </tr>\n",
       "  </tbody>\n",
       "</table>\n",
       "<p>100 rows × 3 columns</p>\n",
       "</div>"
      ],
      "text/plain": [
       "        Brand                  Product Description               Price\n",
       "0       ASICS              Men GEL-KAYANO 27 Shoes  Rs. 10499Rs. 14999\n",
       "1        Puma       Men Deviate Nitro Running Shoe   Rs. 8249Rs. 14999\n",
       "2        Puma                    Men Running Shoes   Rs. 6499Rs. 12999\n",
       "3        Nike           Men Waffle One SE Sneakers            Rs. 8295\n",
       "4        Puma            Men Magnify Nitro Running   Rs. 7799Rs. 12999\n",
       "..        ...                                  ...                 ...\n",
       "95   DAVINCHI                  Solid Slip On Shoes            Rs. 7990\n",
       "96   DAVINCHI          Men Formal Leather Slip-Ons            Rs. 8990\n",
       "97     Clarks           Men Leather Mid-Top Derbys            Rs. 8999\n",
       "98  J.FONTINI  Men Textured Leather Formal Loafers            Rs. 8990\n",
       "99   DAVINCHI      Men Solid Leather Formal Derbys            Rs. 8990\n",
       "\n",
       "[100 rows x 3 columns]"
      ]
     },
     "execution_count": 125,
     "metadata": {},
     "output_type": "execute_result"
    }
   ],
   "source": [
    "shoes_df = pd.DataFrame({\"Brand\":brand, \"Product Description\":desc, \"Price\":price})\n",
    "shoes_df"
   ]
  },
  {
   "cell_type": "code",
   "execution_count": null,
   "id": "5f7df4c6",
   "metadata": {},
   "outputs": [],
   "source": []
  },
  {
   "cell_type": "markdown",
   "id": "7ff0d4e3",
   "metadata": {},
   "source": [
    "# Q8: Go to webpage https://www.amazon.in/\n",
    "Enter “Laptop” in the search field and then click the search icon.\n",
    "Then set CPU Type filter to “Intel Core i7” and “Intel Core i9” as shown in the below image:"
   ]
  },
  {
   "cell_type": "code",
   "execution_count": 171,
   "id": "2742e38d",
   "metadata": {},
   "outputs": [],
   "source": [
    "driver.get(\"https://www.amazon.in/\")"
   ]
  },
  {
   "cell_type": "code",
   "execution_count": 172,
   "id": "a66d2a94",
   "metadata": {},
   "outputs": [],
   "source": [
    "search_laptop = driver.find_element_by_id('twotabsearchtextbox')\n",
    "search_laptop.send_keys('Laptop')"
   ]
  },
  {
   "cell_type": "code",
   "execution_count": 173,
   "id": "477d4beb",
   "metadata": {},
   "outputs": [],
   "source": [
    "search_btn = driver.find_element_by_xpath(\"//div[@class='nav-search-submit nav-sprite']\")\n",
    "search_btn.click()"
   ]
  },
  {
   "cell_type": "code",
   "execution_count": 174,
   "id": "6bcaca9d",
   "metadata": {},
   "outputs": [],
   "source": [
    "CPUi5_filter = driver.find_element_by_xpath(\"/html/body/div[1]/div[2]/div[1]/div[2]/div/div[3]/span/div[1]/span/div/div/div[6]/ul[3]/li[11]/span/a/div/label/i\")\n",
    "CPUi5_filter.click()"
   ]
  },
  {
   "cell_type": "code",
   "execution_count": 196,
   "id": "2d1a80dc",
   "metadata": {},
   "outputs": [],
   "source": [
    "title = []\n",
    "ratings = []\n",
    "price = []"
   ]
  },
  {
   "cell_type": "code",
   "execution_count": 197,
   "id": "1e9e7abf",
   "metadata": {},
   "outputs": [
    {
     "data": {
      "text/plain": [
       "[<selenium.webdriver.remote.webelement.WebElement (session=\"f27861738a68d86738c28afec4b6c448\", element=\"8be11b42-c6bc-42d4-88d7-5f3fd52f2c8a\")>,\n",
       " <selenium.webdriver.remote.webelement.WebElement (session=\"f27861738a68d86738c28afec4b6c448\", element=\"0ccbfc29-a088-42be-8258-fbcab7e2f4e3\")>,\n",
       " <selenium.webdriver.remote.webelement.WebElement (session=\"f27861738a68d86738c28afec4b6c448\", element=\"abc8be32-90af-4d1c-926d-6a1700c341aa\")>,\n",
       " <selenium.webdriver.remote.webelement.WebElement (session=\"f27861738a68d86738c28afec4b6c448\", element=\"cce7f683-7e09-46b1-8573-9031def73d3d\")>]"
      ]
     },
     "execution_count": 197,
     "metadata": {},
     "output_type": "execute_result"
    }
   ],
   "source": [
    "title_tags = driver.find_elements_by_xpath(\"//div[@class='a-section a-spacing-none']\")\n",
    "title_tags[0:4]"
   ]
  },
  {
   "cell_type": "code",
   "execution_count": null,
   "id": "fdacf3ed",
   "metadata": {},
   "outputs": [],
   "source": []
  },
  {
   "cell_type": "code",
   "execution_count": 185,
   "id": "bc077922",
   "metadata": {},
   "outputs": [],
   "source": [
    "title = title[0:10]\n",
    "ratings = ratings[0:10]\n",
    "price = price[0:10]"
   ]
  },
  {
   "cell_type": "code",
   "execution_count": 186,
   "id": "25edb941",
   "metadata": {},
   "outputs": [
    {
     "data": {
      "text/plain": [
       "10"
      ]
     },
     "execution_count": 186,
     "metadata": {},
     "output_type": "execute_result"
    }
   ],
   "source": [
    "len(title)\n"
   ]
  },
  {
   "cell_type": "code",
   "execution_count": 188,
   "id": "bb789b27",
   "metadata": {},
   "outputs": [
    {
     "data": {
      "text/plain": [
       "10"
      ]
     },
     "execution_count": 188,
     "metadata": {},
     "output_type": "execute_result"
    }
   ],
   "source": [
    "len(price)"
   ]
  },
  {
   "cell_type": "code",
   "execution_count": null,
   "id": "52081447",
   "metadata": {},
   "outputs": [],
   "source": []
  },
  {
   "cell_type": "code",
   "execution_count": null,
   "id": "00101d93",
   "metadata": {},
   "outputs": [],
   "source": []
  }
 ],
 "metadata": {
  "kernelspec": {
   "display_name": "Python 3",
   "language": "python",
   "name": "python3"
  },
  "language_info": {
   "codemirror_mode": {
    "name": "ipython",
    "version": 3
   },
   "file_extension": ".py",
   "mimetype": "text/x-python",
   "name": "python",
   "nbconvert_exporter": "python",
   "pygments_lexer": "ipython3",
   "version": "3.8.8"
  }
 },
 "nbformat": 4,
 "nbformat_minor": 5
}
